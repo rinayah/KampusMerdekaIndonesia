{
 "cells": [
  {
   "cell_type": "code",
   "execution_count": 1,
   "id": "efdd44ba",
   "metadata": {},
   "outputs": [
    {
     "ename": "SyntaxError",
     "evalue": "invalid syntax (1615379451.py, line 1)",
     "output_type": "error",
     "traceback": [
      "\u001b[1;36m  File \u001b[1;32m\"C:\\Users\\inayah\\AppData\\Local\\Temp\\ipykernel_8500\\1615379451.py\"\u001b[1;36m, line \u001b[1;32m1\u001b[0m\n\u001b[1;33m    print(12312132132132, sep=)\u001b[0m\n\u001b[1;37m                              ^\u001b[0m\n\u001b[1;31mSyntaxError\u001b[0m\u001b[1;31m:\u001b[0m invalid syntax\n"
     ]
    }
   ],
   "source": [
    "print(12312132132132, sep=)"
   ]
  },
  {
   "cell_type": "code",
   "execution_count": null,
   "id": "f5afe2c4",
   "metadata": {},
   "outputs": [],
   "source": [
    "\"a \" + 5"
   ]
  },
  {
   "cell_type": "code",
   "execution_count": 2,
   "id": "7df2b37e",
   "metadata": {},
   "outputs": [
    {
     "data": {
      "text/plain": [
       "12321321321321123"
      ]
     },
     "execution_count": 2,
     "metadata": {},
     "output_type": "execute_result"
    }
   ],
   "source": [
    "12321321321321123"
   ]
  },
  {
   "cell_type": "code",
   "execution_count": 3,
   "id": "3a435329",
   "metadata": {},
   "outputs": [
    {
     "name": "stdout",
     "output_type": "stream",
     "text": [
      "hello\n"
     ]
    }
   ],
   "source": [
    "print(\"hello\")"
   ]
  },
  {
   "cell_type": "code",
   "execution_count": null,
   "id": "4aa7bde1",
   "metadata": {},
   "outputs": [],
   "source": [
    "m\n",
    "\n",
    "\n",
    "h\n",
    "\n",
    "\n",
    "'1'\n",
    "\n",
    "1"
   ]
  },
  {
   "cell_type": "markdown",
   "id": "ad27e79a",
   "metadata": {},
   "source": [
    "Ini buat catatan\n",
    "\n",
    "Tipe data python\n",
    "\n",
    "- integer: angka bulat\n",
    "- floats: angka desimal\n",
    "- string: kumpulan karakter\n",
    "- boolean: true / false\n",
    "- list: array (kumpulan dari data)"
   ]
  },
  {
   "cell_type": "markdown",
   "id": "22b6f22f",
   "metadata": {},
   "source": [
    "## INTEGER"
   ]
  },
  {
   "cell_type": "code",
   "execution_count": 4,
   "id": "7d715515",
   "metadata": {},
   "outputs": [
    {
     "data": {
      "text/plain": [
       "1"
      ]
     },
     "execution_count": 4,
     "metadata": {},
     "output_type": "execute_result"
    }
   ],
   "source": [
    "1"
   ]
  },
  {
   "cell_type": "code",
   "execution_count": 5,
   "id": "0d53ebe9",
   "metadata": {},
   "outputs": [
    {
     "data": {
      "text/plain": [
       "int"
      ]
     },
     "execution_count": 5,
     "metadata": {},
     "output_type": "execute_result"
    }
   ],
   "source": [
    "type(1)"
   ]
  },
  {
   "cell_type": "code",
   "execution_count": 6,
   "id": "f3f89733",
   "metadata": {},
   "outputs": [
    {
     "name": "stdout",
     "output_type": "stream",
     "text": [
      "<class 'int'>\n"
     ]
    }
   ],
   "source": [
    "print(type(1))"
   ]
  },
  {
   "cell_type": "markdown",
   "id": "503378b8",
   "metadata": {},
   "source": [
    "## FLOATS"
   ]
  },
  {
   "cell_type": "code",
   "execution_count": 7,
   "id": "28176ec3",
   "metadata": {},
   "outputs": [
    {
     "data": {
      "text/plain": [
       "10.5"
      ]
     },
     "execution_count": 7,
     "metadata": {},
     "output_type": "execute_result"
    }
   ],
   "source": [
    "10.5"
   ]
  },
  {
   "cell_type": "code",
   "execution_count": 8,
   "id": "0213de58",
   "metadata": {},
   "outputs": [
    {
     "data": {
      "text/plain": [
       "float"
      ]
     },
     "execution_count": 8,
     "metadata": {},
     "output_type": "execute_result"
    }
   ],
   "source": [
    "type(10.5)"
   ]
  },
  {
   "cell_type": "code",
   "execution_count": 9,
   "id": "01b6f1db",
   "metadata": {},
   "outputs": [
    {
     "data": {
      "text/plain": [
       "float"
      ]
     },
     "execution_count": 9,
     "metadata": {},
     "output_type": "execute_result"
    }
   ],
   "source": [
    "15.8\n",
    "type(15.8)"
   ]
  },
  {
   "cell_type": "code",
   "execution_count": 10,
   "id": "865e02bb",
   "metadata": {},
   "outputs": [
    {
     "name": "stdout",
     "output_type": "stream",
     "text": [
      "15.8\n",
      "<class 'float'>\n"
     ]
    }
   ],
   "source": [
    "print(15.8)\n",
    "print(type(15.8))"
   ]
  },
  {
   "cell_type": "code",
   "execution_count": 11,
   "id": "338baa06",
   "metadata": {},
   "outputs": [
    {
     "data": {
      "text/plain": [
       "True"
      ]
     },
     "execution_count": 11,
     "metadata": {},
     "output_type": "execute_result"
    }
   ],
   "source": [
    "0.2 == .2"
   ]
  },
  {
   "cell_type": "code",
   "execution_count": null,
   "id": "3976755a",
   "metadata": {},
   "outputs": [],
   "source": [
    "0.555\n",
    ".5555"
   ]
  },
  {
   "cell_type": "code",
   "execution_count": 12,
   "id": "13fc4c98",
   "metadata": {},
   "outputs": [
    {
     "data": {
      "text/plain": [
       "500.0"
      ]
     },
     "execution_count": 12,
     "metadata": {},
     "output_type": "execute_result"
    }
   ],
   "source": [
    "5e2"
   ]
  },
  {
   "cell_type": "code",
   "execution_count": 13,
   "id": "4d084e8f",
   "metadata": {},
   "outputs": [
    {
     "data": {
      "text/plain": [
       "0.05"
      ]
     },
     "execution_count": 13,
     "metadata": {},
     "output_type": "execute_result"
    }
   ],
   "source": [
    "5e-2"
   ]
  },
  {
   "cell_type": "markdown",
   "id": "7fd14b7a",
   "metadata": {},
   "source": [
    "## STRING"
   ]
  },
  {
   "cell_type": "code",
   "execution_count": 14,
   "id": "7afea090",
   "metadata": {},
   "outputs": [
    {
     "ename": "NameError",
     "evalue": "name 'k' is not defined",
     "output_type": "error",
     "traceback": [
      "\u001b[1;31m---------------------------------------------------------------------------\u001b[0m",
      "\u001b[1;31mNameError\u001b[0m                                 Traceback (most recent call last)",
      "\u001b[1;32m~\\AppData\\Local\\Temp\\ipykernel_8500\\3760656076.py\u001b[0m in \u001b[0;36m<module>\u001b[1;34m\u001b[0m\n\u001b[1;32m----> 1\u001b[1;33m \u001b[0mk\u001b[0m\u001b[1;33m\u001b[0m\u001b[1;33m\u001b[0m\u001b[0m\n\u001b[0m",
      "\u001b[1;31mNameError\u001b[0m: name 'k' is not defined"
     ]
    }
   ],
   "source": [
    "k"
   ]
  },
  {
   "cell_type": "code",
   "execution_count": 15,
   "id": "dd615f1c",
   "metadata": {},
   "outputs": [
    {
     "data": {
      "text/plain": [
       "''"
      ]
     },
     "execution_count": 15,
     "metadata": {},
     "output_type": "execute_result"
    }
   ],
   "source": [
    "\"\"\n",
    "''"
   ]
  },
  {
   "cell_type": "code",
   "execution_count": 16,
   "id": "38da988a",
   "metadata": {},
   "outputs": [
    {
     "data": {
      "text/plain": [
       "'kasur'"
      ]
     },
     "execution_count": 16,
     "metadata": {},
     "output_type": "execute_result"
    }
   ],
   "source": [
    "\"kasur\""
   ]
  },
  {
   "cell_type": "code",
   "execution_count": 17,
   "id": "111b258d",
   "metadata": {},
   "outputs": [
    {
     "data": {
      "text/plain": [
       "'hello'"
      ]
     },
     "execution_count": 17,
     "metadata": {},
     "output_type": "execute_result"
    }
   ],
   "source": [
    "'hello'"
   ]
  },
  {
   "cell_type": "code",
   "execution_count": 18,
   "id": "2f3f6a98",
   "metadata": {},
   "outputs": [
    {
     "ename": "SyntaxError",
     "evalue": "EOL while scanning string literal (227749041.py, line 1)",
     "output_type": "error",
     "traceback": [
      "\u001b[1;36m  File \u001b[1;32m\"C:\\Users\\inayah\\AppData\\Local\\Temp\\ipykernel_8500\\227749041.py\"\u001b[1;36m, line \u001b[1;32m1\u001b[0m\n\u001b[1;33m    \"kasur'\u001b[0m\n\u001b[1;37m           ^\u001b[0m\n\u001b[1;31mSyntaxError\u001b[0m\u001b[1;31m:\u001b[0m EOL while scanning string literal\n"
     ]
    }
   ],
   "source": [
    "\"kasur'"
   ]
  },
  {
   "cell_type": "code",
   "execution_count": 19,
   "id": "d96ffe49",
   "metadata": {},
   "outputs": [
    {
     "data": {
      "text/plain": [
       "\"I'm going to the movies\""
      ]
     },
     "execution_count": 19,
     "metadata": {},
     "output_type": "execute_result"
    }
   ],
   "source": [
    "\"I'm going to the movies\""
   ]
  },
  {
   "cell_type": "code",
   "execution_count": 20,
   "id": "ad477ba6",
   "metadata": {},
   "outputs": [
    {
     "ename": "SyntaxError",
     "evalue": "invalid syntax (2786085319.py, line 1)",
     "output_type": "error",
     "traceback": [
      "\u001b[1;36m  File \u001b[1;32m\"C:\\Users\\inayah\\AppData\\Local\\Temp\\ipykernel_8500\\2786085319.py\"\u001b[1;36m, line \u001b[1;32m1\u001b[0m\n\u001b[1;33m    'I'm going to the movies'\u001b[0m\n\u001b[1;37m       ^\u001b[0m\n\u001b[1;31mSyntaxError\u001b[0m\u001b[1;31m:\u001b[0m invalid syntax\n"
     ]
    }
   ],
   "source": [
    "'I'm going to the movies'"
   ]
  },
  {
   "cell_type": "code",
   "execution_count": 21,
   "id": "4d26a3f2",
   "metadata": {},
   "outputs": [
    {
     "data": {
      "text/plain": [
       "\"I'm going to the movies\""
      ]
     },
     "execution_count": 21,
     "metadata": {},
     "output_type": "execute_result"
    }
   ],
   "source": [
    "\"I'm going to the movies\""
   ]
  },
  {
   "cell_type": "code",
   "execution_count": 22,
   "id": "dca3d7da",
   "metadata": {},
   "outputs": [
    {
     "ename": "SyntaxError",
     "evalue": "invalid syntax (1730508988.py, line 1)",
     "output_type": "error",
     "traceback": [
      "\u001b[1;36m  File \u001b[1;32m\"C:\\Users\\inayah\\AppData\\Local\\Temp\\ipykernel_8500\\1730508988.py\"\u001b[1;36m, line \u001b[1;32m1\u001b[0m\n\u001b[1;33m    \"Budi berkata, \"halo, apa kabar?\"\"\u001b[0m\n\u001b[1;37m                    ^\u001b[0m\n\u001b[1;31mSyntaxError\u001b[0m\u001b[1;31m:\u001b[0m invalid syntax\n"
     ]
    }
   ],
   "source": [
    "\"Budi berkata, \"halo, apa kabar?\"\""
   ]
  },
  {
   "cell_type": "code",
   "execution_count": 23,
   "id": "df30f591",
   "metadata": {},
   "outputs": [
    {
     "data": {
      "text/plain": [
       "'Budi berkata, \"halo, apa kabar?\"'"
      ]
     },
     "execution_count": 23,
     "metadata": {},
     "output_type": "execute_result"
    }
   ],
   "source": [
    "'Budi berkata, \"halo, apa kabar?\"'"
   ]
  },
  {
   "cell_type": "code",
   "execution_count": 24,
   "id": "7178fc4f",
   "metadata": {},
   "outputs": [
    {
     "data": {
      "text/plain": [
       "str"
      ]
     },
     "execution_count": 24,
     "metadata": {},
     "output_type": "execute_result"
    }
   ],
   "source": [
    "type(\"hello world\")"
   ]
  },
  {
   "cell_type": "code",
   "execution_count": 25,
   "id": "c89a0d1c",
   "metadata": {},
   "outputs": [
    {
     "name": "stdout",
     "output_type": "stream",
     "text": [
      "<class 'str'>\n"
     ]
    }
   ],
   "source": [
    "print(type(\"hello world\"))"
   ]
  },
  {
   "cell_type": "markdown",
   "id": "c51c5745",
   "metadata": {},
   "source": [
    "## BOOL"
   ]
  },
  {
   "cell_type": "code",
   "execution_count": 26,
   "id": "959b9046",
   "metadata": {},
   "outputs": [
    {
     "data": {
      "text/plain": [
       "True"
      ]
     },
     "execution_count": 26,
     "metadata": {},
     "output_type": "execute_result"
    }
   ],
   "source": [
    "True"
   ]
  },
  {
   "cell_type": "code",
   "execution_count": 27,
   "id": "18fcd6c4",
   "metadata": {},
   "outputs": [
    {
     "data": {
      "text/plain": [
       "False"
      ]
     },
     "execution_count": 27,
     "metadata": {},
     "output_type": "execute_result"
    }
   ],
   "source": [
    "False"
   ]
  },
  {
   "cell_type": "code",
   "execution_count": 28,
   "id": "8c20b8a6",
   "metadata": {},
   "outputs": [
    {
     "data": {
      "text/plain": [
       "bool"
      ]
     },
     "execution_count": 28,
     "metadata": {},
     "output_type": "execute_result"
    }
   ],
   "source": [
    "type(True)"
   ]
  },
  {
   "cell_type": "code",
   "execution_count": 29,
   "id": "591b614f",
   "metadata": {},
   "outputs": [
    {
     "data": {
      "text/plain": [
       "bool"
      ]
     },
     "execution_count": 29,
     "metadata": {},
     "output_type": "execute_result"
    }
   ],
   "source": [
    "type(False)"
   ]
  },
  {
   "cell_type": "code",
   "execution_count": 30,
   "id": "27702cea",
   "metadata": {},
   "outputs": [
    {
     "ename": "NameError",
     "evalue": "name 'true' is not defined",
     "output_type": "error",
     "traceback": [
      "\u001b[1;31m---------------------------------------------------------------------------\u001b[0m",
      "\u001b[1;31mNameError\u001b[0m                                 Traceback (most recent call last)",
      "\u001b[1;32m~\\AppData\\Local\\Temp\\ipykernel_8500\\592217714.py\u001b[0m in \u001b[0;36m<module>\u001b[1;34m\u001b[0m\n\u001b[1;32m----> 1\u001b[1;33m \u001b[0mtrue\u001b[0m\u001b[1;33m\u001b[0m\u001b[1;33m\u001b[0m\u001b[0m\n\u001b[0m",
      "\u001b[1;31mNameError\u001b[0m: name 'true' is not defined"
     ]
    }
   ],
   "source": [
    "true"
   ]
  },
  {
   "cell_type": "code",
   "execution_count": 31,
   "id": "20c9052d",
   "metadata": {},
   "outputs": [
    {
     "ename": "NameError",
     "evalue": "name 'false' is not defined",
     "output_type": "error",
     "traceback": [
      "\u001b[1;31m---------------------------------------------------------------------------\u001b[0m",
      "\u001b[1;31mNameError\u001b[0m                                 Traceback (most recent call last)",
      "\u001b[1;32m~\\AppData\\Local\\Temp\\ipykernel_8500\\1273114308.py\u001b[0m in \u001b[0;36m<module>\u001b[1;34m\u001b[0m\n\u001b[1;32m----> 1\u001b[1;33m \u001b[0mfalse\u001b[0m\u001b[1;33m\u001b[0m\u001b[1;33m\u001b[0m\u001b[0m\n\u001b[0m",
      "\u001b[1;31mNameError\u001b[0m: name 'false' is not defined"
     ]
    }
   ],
   "source": [
    "false"
   ]
  },
  {
   "cell_type": "markdown",
   "id": "8fac3856",
   "metadata": {},
   "source": [
    "## VARIABLE\n",
    "\n",
    "tempat untuk nyimpan data\n",
    "\n",
    "- menggunakan A-Z, a-z, 0-9, _\n",
    "- ga bisa dimulai dengan angka\n",
    "- ga bisa pake special character"
   ]
  },
  {
   "cell_type": "code",
   "execution_count": 33,
   "id": "9bc5d1d8",
   "metadata": {},
   "outputs": [],
   "source": [
    "x=500"
   ]
  },
  {
   "cell_type": "code",
   "execution_count": 34,
   "id": "ea9f95c4",
   "metadata": {},
   "outputs": [
    {
     "name": "stdout",
     "output_type": "stream",
     "text": [
      "500\n"
     ]
    }
   ],
   "source": [
    "print(x)"
   ]
  },
  {
   "cell_type": "code",
   "execution_count": 35,
   "id": "b6db437b",
   "metadata": {},
   "outputs": [
    {
     "data": {
      "text/plain": [
       "False"
      ]
     },
     "execution_count": 35,
     "metadata": {},
     "output_type": "execute_result"
    }
   ],
   "source": [
    "x == \"x\""
   ]
  },
  {
   "cell_type": "code",
   "execution_count": 36,
   "id": "1ab643d8",
   "metadata": {},
   "outputs": [
    {
     "name": "stdout",
     "output_type": "stream",
     "text": [
      "x\n"
     ]
    }
   ],
   "source": [
    "print(\"x\")"
   ]
  },
  {
   "cell_type": "code",
   "execution_count": 37,
   "id": "b6a28f30",
   "metadata": {},
   "outputs": [
    {
     "ename": "SyntaxError",
     "evalue": "invalid syntax (3910925352.py, line 1)",
     "output_type": "error",
     "traceback": [
      "\u001b[1;36m  File \u001b[1;32m\"C:\\Users\\inayah\\AppData\\Local\\Temp\\ipykernel_8500\\3910925352.py\"\u001b[1;36m, line \u001b[1;32m1\u001b[0m\n\u001b[1;33m    x! = 500\u001b[0m\n\u001b[1;37m     ^\u001b[0m\n\u001b[1;31mSyntaxError\u001b[0m\u001b[1;31m:\u001b[0m invalid syntax\n"
     ]
    }
   ],
   "source": [
    "x! = 500"
   ]
  },
  {
   "cell_type": "code",
   "execution_count": 38,
   "id": "ff479e6b",
   "metadata": {},
   "outputs": [
    {
     "ename": "SyntaxError",
     "evalue": "invalid syntax (1240257932.py, line 1)",
     "output_type": "error",
     "traceback": [
      "\u001b[1;36m  File \u001b[1;32m\"C:\\Users\\inayah\\AppData\\Local\\Temp\\ipykernel_8500\\1240257932.py\"\u001b[1;36m, line \u001b[1;32m1\u001b[0m\n\u001b[1;33m    5x = 500\u001b[0m\n\u001b[1;37m     ^\u001b[0m\n\u001b[1;31mSyntaxError\u001b[0m\u001b[1;31m:\u001b[0m invalid syntax\n"
     ]
    }
   ],
   "source": [
    "5x = 500"
   ]
  },
  {
   "cell_type": "code",
   "execution_count": 39,
   "id": "4b04ee42",
   "metadata": {},
   "outputs": [],
   "source": [
    "x5 = 500"
   ]
  },
  {
   "cell_type": "code",
   "execution_count": 40,
   "id": "0ec88335",
   "metadata": {},
   "outputs": [
    {
     "name": "stdout",
     "output_type": "stream",
     "text": [
      "500\n"
     ]
    }
   ],
   "source": [
    "print(x5)"
   ]
  },
  {
   "cell_type": "code",
   "execution_count": 41,
   "id": "edab0354",
   "metadata": {},
   "outputs": [
    {
     "ename": "SyntaxError",
     "evalue": "cannot assign to operator (4048279955.py, line 1)",
     "output_type": "error",
     "traceback": [
      "\u001b[1;36m  File \u001b[1;32m\"C:\\Users\\inayah\\AppData\\Local\\Temp\\ipykernel_8500\\4048279955.py\"\u001b[1;36m, line \u001b[1;32m1\u001b[0m\n\u001b[1;33m    x-5 = 500\u001b[0m\n\u001b[1;37m    ^\u001b[0m\n\u001b[1;31mSyntaxError\u001b[0m\u001b[1;31m:\u001b[0m cannot assign to operator\n"
     ]
    }
   ],
   "source": [
    "x-5 = 500"
   ]
  },
  {
   "cell_type": "code",
   "execution_count": 42,
   "id": "ab501b62",
   "metadata": {},
   "outputs": [],
   "source": [
    "x_5 = 500"
   ]
  },
  {
   "cell_type": "code",
   "execution_count": 43,
   "id": "bf92eb7e",
   "metadata": {},
   "outputs": [
    {
     "ename": "SyntaxError",
     "evalue": "invalid syntax (4165307028.py, line 1)",
     "output_type": "error",
     "traceback": [
      "\u001b[1;36m  File \u001b[1;32m\"C:\\Users\\inayah\\AppData\\Local\\Temp\\ipykernel_8500\\4165307028.py\"\u001b[1;36m, line \u001b[1;32m1\u001b[0m\n\u001b[1;33m    int x = 500\u001b[0m\n\u001b[1;37m        ^\u001b[0m\n\u001b[1;31mSyntaxError\u001b[0m\u001b[1;31m:\u001b[0m invalid syntax\n"
     ]
    }
   ],
   "source": [
    "int x = 500"
   ]
  },
  {
   "cell_type": "code",
   "execution_count": 44,
   "id": "3dbe15e1",
   "metadata": {},
   "outputs": [
    {
     "name": "stdout",
     "output_type": "stream",
     "text": [
      "500\n",
      "<class 'int'>\n"
     ]
    }
   ],
   "source": [
    "x = 500\n",
    "print(x)\n",
    "print(type(x))"
   ]
  },
  {
   "cell_type": "code",
   "execution_count": 45,
   "id": "56ffe493",
   "metadata": {},
   "outputs": [
    {
     "name": "stdout",
     "output_type": "stream",
     "text": [
      "smith\n",
      "<class 'str'>\n"
     ]
    }
   ],
   "source": [
    "x = \"smith\"\n",
    "print(x)\n",
    "print(type(x))"
   ]
  },
  {
   "cell_type": "code",
   "execution_count": 46,
   "id": "03381125",
   "metadata": {},
   "outputs": [
    {
     "name": "stdout",
     "output_type": "stream",
     "text": [
      "5 5 5\n"
     ]
    }
   ],
   "source": [
    "x = 5\n",
    "y = 5\n",
    "z = 5\n",
    "print(x, y, z)"
   ]
  },
  {
   "cell_type": "code",
   "execution_count": 47,
   "id": "7c3124b3",
   "metadata": {},
   "outputs": [
    {
     "name": "stdout",
     "output_type": "stream",
     "text": [
      "15 15 15\n"
     ]
    }
   ],
   "source": [
    "a = b = c = 15\n",
    "print(a, b, c)"
   ]
  },
  {
   "cell_type": "code",
   "execution_count": 48,
   "id": "a6038be5",
   "metadata": {},
   "outputs": [
    {
     "data": {
      "text/plain": [
       "int"
      ]
     },
     "execution_count": 48,
     "metadata": {},
     "output_type": "execute_result"
    }
   ],
   "source": [
    "type(x)"
   ]
  },
  {
   "cell_type": "code",
   "execution_count": 49,
   "id": "a1932975",
   "metadata": {},
   "outputs": [
    {
     "name": "stdout",
     "output_type": "stream",
     "text": [
      "adi\n",
      "budi\n",
      "charles\n"
     ]
    }
   ],
   "source": [
    "nama_1 = \"adi\"\n",
    "Nama_1 = \"budi\"\n",
    "naMa_1 = \"charles\"\n",
    "\n",
    "print(nama_1)\n",
    "print(Nama_1)\n",
    "print(naMa_1)"
   ]
  },
  {
   "cell_type": "code",
   "execution_count": 50,
   "id": "5700fdfc",
   "metadata": {},
   "outputs": [],
   "source": [
    "namaMurid = \"john doe\""
   ]
  },
  {
   "cell_type": "code",
   "execution_count": 51,
   "id": "05c40930",
   "metadata": {},
   "outputs": [],
   "source": [
    "nama_murid = \"john doe\""
   ]
  },
  {
   "cell_type": "code",
   "execution_count": null,
   "id": "8f7854df",
   "metadata": {},
   "outputs": [],
   "source": [
    "BiodataMurid = class()"
   ]
  },
  {
   "cell_type": "markdown",
   "id": "ce639191",
   "metadata": {},
   "source": [
    "## OPERATORS\n",
    "- + penambahan\n",
    "- - pengurangan\n",
    "- / pembagian (hasil float)\n",
    "- // pembagian (hasil int)\n",
    "- * pengalian\n",
    "- ** pangkat\n",
    "- % mod (sisa pembagian)"
   ]
  },
  {
   "cell_type": "code",
   "execution_count": 53,
   "id": "048527e7",
   "metadata": {},
   "outputs": [
    {
     "name": "stdout",
     "output_type": "stream",
     "text": [
      "15 15\n"
     ]
    }
   ],
   "source": [
    "print(a, b)"
   ]
  },
  {
   "cell_type": "code",
   "execution_count": 54,
   "id": "0e5729f2",
   "metadata": {},
   "outputs": [
    {
     "name": "stdout",
     "output_type": "stream",
     "text": [
      "30\n",
      "30\n",
      "10\n"
     ]
    }
   ],
   "source": [
    "print(15 + 15)\n",
    "print(a + b)\n",
    "print(a - 5)"
   ]
  },
  {
   "cell_type": "code",
   "execution_count": 55,
   "id": "bb1cab16",
   "metadata": {},
   "outputs": [
    {
     "name": "stdout",
     "output_type": "stream",
     "text": [
      "35\n"
     ]
    }
   ],
   "source": [
    "halo = 20\n",
    "print(halo + 15)"
   ]
  },
  {
   "cell_type": "code",
   "execution_count": 56,
   "id": "fe277155",
   "metadata": {},
   "outputs": [
    {
     "ename": "TypeError",
     "evalue": "can only concatenate str (not \"int\") to str",
     "output_type": "error",
     "traceback": [
      "\u001b[1;31m---------------------------------------------------------------------------\u001b[0m",
      "\u001b[1;31mTypeError\u001b[0m                                 Traceback (most recent call last)",
      "\u001b[1;32m~\\AppData\\Local\\Temp\\ipykernel_8500\\448182563.py\u001b[0m in \u001b[0;36m<module>\u001b[1;34m\u001b[0m\n\u001b[0;32m      1\u001b[0m \u001b[0mhalo\u001b[0m \u001b[1;33m=\u001b[0m \u001b[1;34m\"goodbye\"\u001b[0m\u001b[1;33m\u001b[0m\u001b[1;33m\u001b[0m\u001b[0m\n\u001b[1;32m----> 2\u001b[1;33m \u001b[0mprint\u001b[0m\u001b[1;33m(\u001b[0m\u001b[0mhalo\u001b[0m \u001b[1;33m+\u001b[0m \u001b[1;36m15\u001b[0m\u001b[1;33m)\u001b[0m\u001b[1;33m\u001b[0m\u001b[1;33m\u001b[0m\u001b[0m\n\u001b[0m",
      "\u001b[1;31mTypeError\u001b[0m: can only concatenate str (not \"int\") to str"
     ]
    }
   ],
   "source": [
    "halo = \"goodbye\"\n",
    "print(halo + 15)"
   ]
  },
  {
   "cell_type": "code",
   "execution_count": 57,
   "id": "dff3953f",
   "metadata": {},
   "outputs": [
    {
     "name": "stdout",
     "output_type": "stream",
     "text": [
      "35.0\n"
     ]
    }
   ],
   "source": [
    "print(15 + 20.0)"
   ]
  },
  {
   "cell_type": "code",
   "execution_count": 58,
   "id": "1ed33874",
   "metadata": {},
   "outputs": [
    {
     "name": "stdout",
     "output_type": "stream",
     "text": [
      "10.0\n",
      "10\n",
      "6\n"
     ]
    }
   ],
   "source": [
    "print(50 / 5)\n",
    "print(50 // 5)\n",
    "print(50 // 8)"
   ]
  },
  {
   "cell_type": "code",
   "execution_count": 59,
   "id": "428346c8",
   "metadata": {},
   "outputs": [
    {
     "name": "stdout",
     "output_type": "stream",
     "text": [
      "100\n",
      "125.0\n"
     ]
    }
   ],
   "source": [
    "print(50 * 2)\n",
    "print(50 * 2.5)"
   ]
  },
  {
   "cell_type": "code",
   "execution_count": 60,
   "id": "c43dc5f0",
   "metadata": {},
   "outputs": [
    {
     "name": "stdout",
     "output_type": "stream",
     "text": [
      "32\n",
      "8.0\n"
     ]
    }
   ],
   "source": [
    "print(2 ** 5)\n",
    "print(64 ** 0.5)"
   ]
  },
  {
   "cell_type": "code",
   "execution_count": 61,
   "id": "f7cf01e1",
   "metadata": {},
   "outputs": [
    {
     "data": {
      "text/plain": [
       "2"
      ]
     },
     "execution_count": 61,
     "metadata": {},
     "output_type": "execute_result"
    }
   ],
   "source": [
    "50 % 8"
   ]
  },
  {
   "cell_type": "code",
   "execution_count": 62,
   "id": "37dde718",
   "metadata": {},
   "outputs": [
    {
     "data": {
      "text/plain": [
       "44"
      ]
     },
     "execution_count": 62,
     "metadata": {},
     "output_type": "execute_result"
    }
   ],
   "source": [
    "(5 + 10) * 3 - 1 ** (12 - 2)"
   ]
  },
  {
   "cell_type": "markdown",
   "id": "cd4ad2ba",
   "metadata": {},
   "source": [
    "## COMPARISON\n",
    "- ==\n",
    "- !=\n",
    "- <\n",
    "- >\n",
    "- <=\n",
    "- >="
   ]
  },
  {
   "cell_type": "code",
   "execution_count": 63,
   "id": "cdce46fc",
   "metadata": {},
   "outputs": [],
   "source": [
    "x=5"
   ]
  },
  {
   "cell_type": "code",
   "execution_count": 64,
   "id": "a00e24e1",
   "metadata": {},
   "outputs": [
    {
     "data": {
      "text/plain": [
       "True"
      ]
     },
     "execution_count": 64,
     "metadata": {},
     "output_type": "execute_result"
    }
   ],
   "source": [
    "x==5"
   ]
  },
  {
   "cell_type": "code",
   "execution_count": 65,
   "id": "e0015f75",
   "metadata": {},
   "outputs": [
    {
     "data": {
      "text/plain": [
       "False"
      ]
     },
     "execution_count": 65,
     "metadata": {},
     "output_type": "execute_result"
    }
   ],
   "source": [
    "x == \"hello\""
   ]
  },
  {
   "cell_type": "code",
   "execution_count": 66,
   "id": "a174a628",
   "metadata": {},
   "outputs": [
    {
     "data": {
      "text/plain": [
       "True"
      ]
     },
     "execution_count": 66,
     "metadata": {},
     "output_type": "execute_result"
    }
   ],
   "source": [
    "x != \"hello\""
   ]
  },
  {
   "cell_type": "code",
   "execution_count": 67,
   "id": "98467715",
   "metadata": {},
   "outputs": [
    {
     "ename": "TypeError",
     "evalue": "'>' not supported between instances of 'int' and 'str'",
     "output_type": "error",
     "traceback": [
      "\u001b[1;31m---------------------------------------------------------------------------\u001b[0m",
      "\u001b[1;31mTypeError\u001b[0m                                 Traceback (most recent call last)",
      "\u001b[1;32m~\\AppData\\Local\\Temp\\ipykernel_8500\\2736306263.py\u001b[0m in \u001b[0;36m<module>\u001b[1;34m\u001b[0m\n\u001b[1;32m----> 1\u001b[1;33m \u001b[0mx\u001b[0m \u001b[1;33m>\u001b[0m \u001b[1;34m\"hello\"\u001b[0m\u001b[1;33m\u001b[0m\u001b[1;33m\u001b[0m\u001b[0m\n\u001b[0m",
      "\u001b[1;31mTypeError\u001b[0m: '>' not supported between instances of 'int' and 'str'"
     ]
    }
   ],
   "source": [
    "x > \"hello\""
   ]
  },
  {
   "cell_type": "code",
   "execution_count": 68,
   "id": "ff631529",
   "metadata": {},
   "outputs": [
    {
     "data": {
      "text/plain": [
       "True"
      ]
     },
     "execution_count": 68,
     "metadata": {},
     "output_type": "execute_result"
    }
   ],
   "source": [
    "5 < 8"
   ]
  },
  {
   "cell_type": "code",
   "execution_count": 69,
   "id": "027ce9d5",
   "metadata": {},
   "outputs": [
    {
     "ename": "TypeError",
     "evalue": "'<' not supported between instances of 'int' and 'str'",
     "output_type": "error",
     "traceback": [
      "\u001b[1;31m---------------------------------------------------------------------------\u001b[0m",
      "\u001b[1;31mTypeError\u001b[0m                                 Traceback (most recent call last)",
      "\u001b[1;32m~\\AppData\\Local\\Temp\\ipykernel_8500\\3737306139.py\u001b[0m in \u001b[0;36m<module>\u001b[1;34m\u001b[0m\n\u001b[1;32m----> 1\u001b[1;33m \u001b[1;36m0\u001b[0m \u001b[1;33m<\u001b[0m \u001b[1;34m\"a\"\u001b[0m\u001b[1;33m\u001b[0m\u001b[1;33m\u001b[0m\u001b[0m\n\u001b[0m",
      "\u001b[1;31mTypeError\u001b[0m: '<' not supported between instances of 'int' and 'str'"
     ]
    }
   ],
   "source": [
    "0 < \"a\""
   ]
  },
  {
   "cell_type": "code",
   "execution_count": 70,
   "id": "45e65c61",
   "metadata": {},
   "outputs": [
    {
     "data": {
      "text/plain": [
       "True"
      ]
     },
     "execution_count": 70,
     "metadata": {},
     "output_type": "execute_result"
    }
   ],
   "source": [
    "'0' < \"a\""
   ]
  },
  {
   "cell_type": "code",
   "execution_count": 71,
   "id": "044ad313",
   "metadata": {},
   "outputs": [
    {
     "data": {
      "text/plain": [
       "str"
      ]
     },
     "execution_count": 71,
     "metadata": {},
     "output_type": "execute_result"
    }
   ],
   "source": [
    "type(\"ars!@#:\\|{><})\")"
   ]
  },
  {
   "cell_type": "code",
   "execution_count": 72,
   "id": "4eb20a9a",
   "metadata": {},
   "outputs": [
    {
     "data": {
      "text/plain": [
       "True"
      ]
     },
     "execution_count": 72,
     "metadata": {},
     "output_type": "execute_result"
    }
   ],
   "source": [
    "\"A\" < \"a\""
   ]
  },
  {
   "cell_type": "code",
   "execution_count": 73,
   "id": "e1a4a043",
   "metadata": {},
   "outputs": [
    {
     "data": {
      "text/plain": [
       "True"
      ]
     },
     "execution_count": 73,
     "metadata": {},
     "output_type": "execute_result"
    }
   ],
   "source": [
    "\"a\" < \"h\""
   ]
  },
  {
   "cell_type": "code",
   "execution_count": 74,
   "id": "c52ded4c",
   "metadata": {},
   "outputs": [
    {
     "name": "stdout",
     "output_type": "stream",
     "text": [
      "False\n",
      "True\n"
     ]
    }
   ],
   "source": [
    "print(\"ape\" > \"hotel\")\n",
    "print(\"ape\" < \"hotel\")"
   ]
  },
  {
   "cell_type": "code",
   "execution_count": 75,
   "id": "a3fedb92",
   "metadata": {},
   "outputs": [
    {
     "name": "stdout",
     "output_type": "stream",
     "text": [
      "False\n",
      "True\n"
     ]
    }
   ],
   "source": [
    "print(\"hello\" > \"tv\")\n",
    "print(\"hello\" < \"tv\")"
   ]
  },
  {
   "cell_type": "code",
   "execution_count": 76,
   "id": "f6709281",
   "metadata": {},
   "outputs": [
    {
     "data": {
      "text/plain": [
       "True"
      ]
     },
     "execution_count": 76,
     "metadata": {},
     "output_type": "execute_result"
    }
   ],
   "source": [
    "True == True"
   ]
  },
  {
   "cell_type": "code",
   "execution_count": 77,
   "id": "bc298e92",
   "metadata": {},
   "outputs": [
    {
     "data": {
      "text/plain": [
       "False"
      ]
     },
     "execution_count": 77,
     "metadata": {},
     "output_type": "execute_result"
    }
   ],
   "source": [
    "True == False"
   ]
  },
  {
   "cell_type": "code",
   "execution_count": 78,
   "id": "dff3dba3",
   "metadata": {},
   "outputs": [
    {
     "data": {
      "text/plain": [
       "True"
      ]
     },
     "execution_count": 78,
     "metadata": {},
     "output_type": "execute_result"
    }
   ],
   "source": [
    "True != False"
   ]
  },
  {
   "cell_type": "code",
   "execution_count": 79,
   "id": "56c85550",
   "metadata": {},
   "outputs": [
    {
     "data": {
      "text/plain": [
       "True"
      ]
     },
     "execution_count": 79,
     "metadata": {},
     "output_type": "execute_result"
    }
   ],
   "source": [
    "False == False"
   ]
  },
  {
   "cell_type": "markdown",
   "id": "228baccd",
   "metadata": {},
   "source": [
    "## STRING"
   ]
  },
  {
   "cell_type": "code",
   "execution_count": 80,
   "id": "133b03ba",
   "metadata": {},
   "outputs": [
    {
     "ename": "TypeError",
     "evalue": "can only concatenate str (not \"int\") to str",
     "output_type": "error",
     "traceback": [
      "\u001b[1;31m---------------------------------------------------------------------------\u001b[0m",
      "\u001b[1;31mTypeError\u001b[0m                                 Traceback (most recent call last)",
      "\u001b[1;32m~\\AppData\\Local\\Temp\\ipykernel_8500\\2572526635.py\u001b[0m in \u001b[0;36m<module>\u001b[1;34m\u001b[0m\n\u001b[1;32m----> 1\u001b[1;33m \u001b[1;34m\"a\"\u001b[0m \u001b[1;33m+\u001b[0m \u001b[1;36m5\u001b[0m\u001b[1;33m\u001b[0m\u001b[1;33m\u001b[0m\u001b[0m\n\u001b[0m",
      "\u001b[1;31mTypeError\u001b[0m: can only concatenate str (not \"int\") to str"
     ]
    }
   ],
   "source": [
    "\"a\" + 5"
   ]
  },
  {
   "cell_type": "code",
   "execution_count": 81,
   "id": "9fe02045",
   "metadata": {},
   "outputs": [
    {
     "data": {
      "text/plain": [
       "'ab'"
      ]
     },
     "execution_count": 81,
     "metadata": {},
     "output_type": "execute_result"
    }
   ],
   "source": [
    "\"a\" + \"b\""
   ]
  },
  {
   "cell_type": "code",
   "execution_count": 82,
   "id": "72ef0d61",
   "metadata": {},
   "outputs": [
    {
     "data": {
      "text/plain": [
       "'aaaaa'"
      ]
     },
     "execution_count": 82,
     "metadata": {},
     "output_type": "execute_result"
    }
   ],
   "source": [
    "\"a\" * 5"
   ]
  },
  {
   "cell_type": "code",
   "execution_count": 83,
   "id": "4c33dd1c",
   "metadata": {},
   "outputs": [
    {
     "name": "stdout",
     "output_type": "stream",
     "text": [
      "jalan section A\n",
      "50 + 50 =  100\n",
      "================================================================================\n",
      "jalan section B\n"
     ]
    }
   ],
   "source": [
    "print(\"jalan section A\")\n",
    "print(\"50 + 50 = \", 50 + 50)\n",
    "print(\"=\" * 80) \n",
    "print(\"jalan section B\")"
   ]
  },
  {
   "cell_type": "code",
   "execution_count": 84,
   "id": "dc90162e",
   "metadata": {},
   "outputs": [
    {
     "name": "stdout",
     "output_type": "stream",
     "text": [
      "foobar\n"
     ]
    }
   ],
   "source": [
    "print(\"foo\" + \"bar\")"
   ]
  },
  {
   "cell_type": "code",
   "execution_count": 85,
   "id": "89fa4876",
   "metadata": {},
   "outputs": [
    {
     "name": "stdout",
     "output_type": "stream",
     "text": [
      "saya\n"
     ]
    }
   ],
   "source": [
    "a = \"sa\"\n",
    "b = \"ya\"\n",
    "print(a + b)"
   ]
  },
  {
   "cell_type": "code",
   "execution_count": 86,
   "id": "c5197834",
   "metadata": {},
   "outputs": [
    {
     "name": "stdout",
     "output_type": "stream",
     "text": [
      "sa sa sa sa sa \n"
     ]
    }
   ],
   "source": [
    "print(\"sa \" * 5)"
   ]
  },
  {
   "cell_type": "code",
   "execution_count": 87,
   "id": "940a2a41",
   "metadata": {},
   "outputs": [
    {
     "data": {
      "text/plain": [
       "True"
      ]
     },
     "execution_count": 87,
     "metadata": {},
     "output_type": "execute_result"
    }
   ],
   "source": [
    "a in \"saya mau makan\""
   ]
  },
  {
   "cell_type": "code",
   "execution_count": 88,
   "id": "0816b41f",
   "metadata": {},
   "outputs": [],
   "source": [
    "kalimat = \"saYa mAu mAKan\""
   ]
  },
  {
   "cell_type": "code",
   "execution_count": 89,
   "id": "a72965ef",
   "metadata": {},
   "outputs": [
    {
     "data": {
      "text/plain": [
       "'Saya mau makan'"
      ]
     },
     "execution_count": 89,
     "metadata": {},
     "output_type": "execute_result"
    }
   ],
   "source": [
    "kalimat.capitalize()"
   ]
  },
  {
   "cell_type": "code",
   "execution_count": 90,
   "id": "70944bc2",
   "metadata": {},
   "outputs": [
    {
     "data": {
      "text/plain": [
       "'sxYx mAu mAKxn'"
      ]
     },
     "execution_count": 90,
     "metadata": {},
     "output_type": "execute_result"
    }
   ],
   "source": [
    "kalimat.replace(\"a\", \"x\")"
   ]
  },
  {
   "cell_type": "code",
   "execution_count": 91,
   "id": "c1ab0300",
   "metadata": {},
   "outputs": [
    {
     "data": {
      "text/plain": [
       "'Saya mau makan'"
      ]
     },
     "execution_count": 91,
     "metadata": {},
     "output_type": "execute_result"
    }
   ],
   "source": [
    "str.capitalize(kalimat)"
   ]
  },
  {
   "cell_type": "code",
   "execution_count": 92,
   "id": "697b54d4",
   "metadata": {},
   "outputs": [
    {
     "data": {
      "text/plain": [
       "'SAYA MAU MAKAN'"
      ]
     },
     "execution_count": 92,
     "metadata": {},
     "output_type": "execute_result"
    }
   ],
   "source": [
    "kalimat.upper()"
   ]
  },
  {
   "cell_type": "code",
   "execution_count": 93,
   "id": "168aeb75",
   "metadata": {},
   "outputs": [
    {
     "data": {
      "text/plain": [
       "'saya mau makan'"
      ]
     },
     "execution_count": 93,
     "metadata": {},
     "output_type": "execute_result"
    }
   ],
   "source": [
    "kalimat.lower()"
   ]
  },
  {
   "cell_type": "code",
   "execution_count": 94,
   "id": "599f8b7a",
   "metadata": {},
   "outputs": [
    {
     "data": {
      "text/plain": [
       "'SAyA MaU MakAN'"
      ]
     },
     "execution_count": 94,
     "metadata": {},
     "output_type": "execute_result"
    }
   ],
   "source": [
    "kalimat.swapcase()"
   ]
  },
  {
   "cell_type": "code",
   "execution_count": 95,
   "id": "96334867",
   "metadata": {},
   "outputs": [
    {
     "data": {
      "text/plain": [
       "'Saya Mau Makan'"
      ]
     },
     "execution_count": 95,
     "metadata": {},
     "output_type": "execute_result"
    }
   ],
   "source": [
    "kalimat.title()"
   ]
  },
  {
   "cell_type": "code",
   "execution_count": null,
   "id": "8bc35de5",
   "metadata": {},
   "outputs": [],
   "source": [
    "kalimat."
   ]
  },
  {
   "cell_type": "markdown",
   "id": "6170e531",
   "metadata": {},
   "source": [
    "## LIST\n",
    "- daftar dari apapun (str, float, int, dict, list)\n",
    "- ngurut\n",
    "- mutable\n",
    "- bisa diakses dengan index\n",
    "- [ ]"
   ]
  },
  {
   "cell_type": "code",
   "execution_count": 97,
   "id": "5df0f4a4",
   "metadata": {},
   "outputs": [
    {
     "name": "stdout",
     "output_type": "stream",
     "text": [
      "['apel', 'pisang', 'durian', 'jeruk', 'semangka', 'salak']\n",
      "['mobil', 'motor', 'angkot', 'bus']\n"
     ]
    }
   ],
   "source": [
    "a = [\"apel\", \"pisang\", \"durian\", \"jeruk\", \"semangka\", \"salak\"]\n",
    "b = [\"mobil\", \"motor\", \"angkot\", \"bus\"]\n",
    "\n",
    "print(a)\n",
    "print(b)"
   ]
  },
  {
   "cell_type": "code",
   "execution_count": 98,
   "id": "24d6dd5d",
   "metadata": {},
   "outputs": [],
   "source": [
    "c = ['apel', 45, True, [\"merah\", \"biru\", \"hijau\"]]"
   ]
  },
  {
   "cell_type": "code",
   "execution_count": 99,
   "id": "e9516d64",
   "metadata": {},
   "outputs": [
    {
     "name": "stdout",
     "output_type": "stream",
     "text": [
      "apel\n",
      "45\n",
      "True\n",
      "['merah', 'biru', 'hijau']\n"
     ]
    }
   ],
   "source": [
    "print(c[0])\n",
    "print(c[1])\n",
    "print(c[2])\n",
    "print(c[3])"
   ]
  },
  {
   "cell_type": "code",
   "execution_count": 100,
   "id": "6340e767",
   "metadata": {},
   "outputs": [
    {
     "data": {
      "text/plain": [
       "False"
      ]
     },
     "execution_count": 100,
     "metadata": {},
     "output_type": "execute_result"
    }
   ],
   "source": [
    "a == b"
   ]
  },
  {
   "cell_type": "code",
   "execution_count": 101,
   "id": "0af60d1a",
   "metadata": {},
   "outputs": [
    {
     "data": {
      "text/plain": [
       "'durian'"
      ]
     },
     "execution_count": 101,
     "metadata": {},
     "output_type": "execute_result"
    }
   ],
   "source": [
    "a[2]"
   ]
  },
  {
   "cell_type": "code",
   "execution_count": null,
   "id": "a612a399",
   "metadata": {},
   "outputs": [],
   "source": [
    "0 1 2 3 4"
   ]
  },
  {
   "cell_type": "code",
   "execution_count": null,
   "id": "ed5ffd16",
   "metadata": {},
   "outputs": [],
   "source": [
    "-5 -4 -3 -2 -1 0 1 2 3 4 5"
   ]
  },
  {
   "cell_type": "code",
   "execution_count": null,
   "id": "c79537fb",
   "metadata": {},
   "outputs": [],
   "source": [
    "a   b  c  d  e  f\n",
    "0   1  2  3  4  5\n",
    "-6 -5 -4 -3 -2 -1"
   ]
  },
  {
   "cell_type": "code",
   "execution_count": 102,
   "id": "777993c2",
   "metadata": {},
   "outputs": [
    {
     "data": {
      "text/plain": [
       "['apel', 'pisang', 'durian', 'jeruk', 'semangka', 'salak']"
      ]
     },
     "execution_count": 102,
     "metadata": {},
     "output_type": "execute_result"
    }
   ],
   "source": [
    "a"
   ]
  },
  {
   "cell_type": "code",
   "execution_count": 103,
   "id": "5b54ac39",
   "metadata": {},
   "outputs": [
    {
     "name": "stdout",
     "output_type": "stream",
     "text": [
      "durian\n",
      "jeruk\n",
      "semangka\n",
      "salak\n",
      "apel\n",
      "pisang\n",
      "durian\n",
      "jeruk\n"
     ]
    }
   ],
   "source": [
    "print(a[-4])\n",
    "print(a[-3])\n",
    "print(a[-2])\n",
    "print(a[-1])\n",
    "print(a[0])\n",
    "print(a[1])\n",
    "print(a[2])\n",
    "print(a[3])"
   ]
  },
  {
   "cell_type": "code",
   "execution_count": 104,
   "id": "b82d7307",
   "metadata": {},
   "outputs": [
    {
     "data": {
      "text/plain": [
       "['apel', 'pisang', 'durian', 'jeruk', 'semangka', 'salak']"
      ]
     },
     "execution_count": 104,
     "metadata": {},
     "output_type": "execute_result"
    }
   ],
   "source": [
    "a"
   ]
  },
  {
   "cell_type": "code",
   "execution_count": 110,
   "id": "90418a0c",
   "metadata": {},
   "outputs": [
    {
     "ename": "NameError",
     "evalue": "name 'start' is not defined",
     "output_type": "error",
     "traceback": [
      "\u001b[1;31m---------------------------------------------------------------------------\u001b[0m",
      "\u001b[1;31mNameError\u001b[0m                                 Traceback (most recent call last)",
      "\u001b[1;32m~\\AppData\\Local\\Temp\\ipykernel_8500\\840420079.py\u001b[0m in \u001b[0;36m<module>\u001b[1;34m\u001b[0m\n\u001b[0;32m      1\u001b[0m \u001b[0ma\u001b[0m\u001b[1;33m[\u001b[0m\u001b[1;36m0\u001b[0m\u001b[1;33m:\u001b[0m\u001b[1;36m2\u001b[0m\u001b[1;33m]\u001b[0m\u001b[1;33m\u001b[0m\u001b[1;33m\u001b[0m\u001b[0m\n\u001b[1;32m----> 2\u001b[1;33m \u001b[0mlist\u001b[0m\u001b[1;33m[\u001b[0m\u001b[0mstart\u001b[0m\u001b[1;33m(\u001b[0m\u001b[0mInclusive\u001b[0m\u001b[1;33m)\u001b[0m\u001b[1;33m:\u001b[0m \u001b[0mstop\u001b[0m\u001b[1;33m(\u001b[0m\u001b[0mexclusive\u001b[0m\u001b[1;33m)\u001b[0m\u001b[1;33m]\u001b[0m\u001b[1;33m\u001b[0m\u001b[1;33m\u001b[0m\u001b[0m\n\u001b[0m",
      "\u001b[1;31mNameError\u001b[0m: name 'start' is not defined"
     ]
    }
   ],
   "source": [
    "a[0:2]\n",
    "list[start(Inclusive): stop(exclusive)]"
   ]
  },
  {
   "cell_type": "code",
   "execution_count": 111,
   "id": "1160ea97",
   "metadata": {},
   "outputs": [
    {
     "data": {
      "text/plain": [
       "True"
      ]
     },
     "execution_count": 111,
     "metadata": {},
     "output_type": "execute_result"
    }
   ],
   "source": [
    "0.2 == .2"
   ]
  },
  {
   "cell_type": "code",
   "execution_count": 112,
   "id": "7f7028df",
   "metadata": {},
   "outputs": [
    {
     "data": {
      "text/plain": [
       "['jeruk', 'semangka']"
      ]
     },
     "execution_count": 112,
     "metadata": {},
     "output_type": "execute_result"
    }
   ],
   "source": [
    "a[3:5]"
   ]
  },
  {
   "cell_type": "code",
   "execution_count": 113,
   "id": "6b9c78ab",
   "metadata": {},
   "outputs": [
    {
     "data": {
      "text/plain": [
       "['apel', 'pisang', 'durian']"
      ]
     },
     "execution_count": 113,
     "metadata": {},
     "output_type": "execute_result"
    }
   ],
   "source": [
    "a[0:3]"
   ]
  },
  {
   "cell_type": "code",
   "execution_count": 114,
   "id": "6eea3dcf",
   "metadata": {},
   "outputs": [
    {
     "data": {
      "text/plain": [
       "['apel', 'pisang', 'durian']"
      ]
     },
     "execution_count": 114,
     "metadata": {},
     "output_type": "execute_result"
    }
   ],
   "source": [
    "a[:3]"
   ]
  },
  {
   "cell_type": "code",
   "execution_count": 115,
   "id": "b6c0fa82",
   "metadata": {},
   "outputs": [
    {
     "data": {
      "text/plain": [
       "['pisang', 'durian', 'jeruk', 'semangka', 'salak']"
      ]
     },
     "execution_count": 115,
     "metadata": {},
     "output_type": "execute_result"
    }
   ],
   "source": [
    "a[1:]"
   ]
  },
  {
   "cell_type": "code",
   "execution_count": 116,
   "id": "60d2d948",
   "metadata": {},
   "outputs": [
    {
     "data": {
      "text/plain": [
       "['apel', 'pisang', 'durian', 'jeruk', 'semangka']"
      ]
     },
     "execution_count": 116,
     "metadata": {},
     "output_type": "execute_result"
    }
   ],
   "source": [
    "a[:-1]"
   ]
  },
  {
   "cell_type": "code",
   "execution_count": 117,
   "id": "32394bce",
   "metadata": {},
   "outputs": [
    {
     "data": {
      "text/plain": [
       "['jeruk', 'semangka', 'salak']"
      ]
     },
     "execution_count": 117,
     "metadata": {},
     "output_type": "execute_result"
    }
   ],
   "source": [
    "a[-3:]"
   ]
  },
  {
   "cell_type": "code",
   "execution_count": 118,
   "id": "499f768d",
   "metadata": {},
   "outputs": [
    {
     "data": {
      "text/plain": [
       "['apel', 'pisang', 'durian']"
      ]
     },
     "execution_count": 118,
     "metadata": {},
     "output_type": "execute_result"
    }
   ],
   "source": [
    "a[:3]"
   ]
  },
  {
   "cell_type": "code",
   "execution_count": 119,
   "id": "ceb186c8",
   "metadata": {},
   "outputs": [
    {
     "data": {
      "text/plain": [
       "['durian', 'jeruk']"
      ]
     },
     "execution_count": 119,
     "metadata": {},
     "output_type": "execute_result"
    }
   ],
   "source": [
    "a[2:-2]"
   ]
  },
  {
   "cell_type": "code",
   "execution_count": 120,
   "id": "78d249fc",
   "metadata": {},
   "outputs": [
    {
     "data": {
      "text/plain": [
       "['apel', 'pisang', 'durian', 'jeruk', 'semangka', 'salak']"
      ]
     },
     "execution_count": 120,
     "metadata": {},
     "output_type": "execute_result"
    }
   ],
   "source": [
    "a"
   ]
  },
  {
   "cell_type": "code",
   "execution_count": 121,
   "id": "75655ef9",
   "metadata": {},
   "outputs": [
    {
     "data": {
      "text/plain": [
       "['durian', 'jeruk', 'semangka']"
      ]
     },
     "execution_count": 121,
     "metadata": {},
     "output_type": "execute_result"
    }
   ],
   "source": [
    "a[2:5]"
   ]
  },
  {
   "cell_type": "code",
   "execution_count": 122,
   "id": "a7a3ad30",
   "metadata": {},
   "outputs": [
    {
     "data": {
      "text/plain": [
       "['durian', 'jeruk', 'semangka']"
      ]
     },
     "execution_count": 122,
     "metadata": {},
     "output_type": "execute_result"
    }
   ],
   "source": [
    "a[2:-1]"
   ]
  },
  {
   "cell_type": "code",
   "execution_count": 123,
   "id": "dea3e7e7",
   "metadata": {},
   "outputs": [
    {
     "data": {
      "text/plain": [
       "'a mAu mA'"
      ]
     },
     "execution_count": 123,
     "metadata": {},
     "output_type": "execute_result"
    }
   ],
   "source": [
    "kalimat[3:-3]"
   ]
  },
  {
   "cell_type": "code",
   "execution_count": 124,
   "id": "20dc4170",
   "metadata": {},
   "outputs": [
    {
     "data": {
      "text/plain": [
       "'saYa mAu mAKan'"
      ]
     },
     "execution_count": 124,
     "metadata": {},
     "output_type": "execute_result"
    }
   ],
   "source": [
    "kalimat"
   ]
  },
  {
   "cell_type": "code",
   "execution_count": 125,
   "id": "2b62288e",
   "metadata": {},
   "outputs": [
    {
     "name": "stdout",
     "output_type": "stream",
     "text": [
      "14\n",
      "6\n"
     ]
    }
   ],
   "source": [
    "print(len(kalimat))\n",
    "print(len(a))"
   ]
  },
  {
   "cell_type": "code",
   "execution_count": 126,
   "id": "8d72fd22",
   "metadata": {},
   "outputs": [
    {
     "data": {
      "text/plain": [
       "['apel', 45, True, ['merah', 'biru', 'hijau']]"
      ]
     },
     "execution_count": 126,
     "metadata": {},
     "output_type": "execute_result"
    }
   ],
   "source": [
    "c"
   ]
  },
  {
   "cell_type": "code",
   "execution_count": 127,
   "id": "ce945332",
   "metadata": {},
   "outputs": [
    {
     "name": "stdout",
     "output_type": "stream",
     "text": [
      "4\n"
     ]
    }
   ],
   "source": [
    "print(len(c))"
   ]
  },
  {
   "cell_type": "code",
   "execution_count": 128,
   "id": "c483c64f",
   "metadata": {},
   "outputs": [
    {
     "data": {
      "text/plain": [
       "['apel', 'pisang', 'durian', 'jeruk', 'semangka', 'salak']"
      ]
     },
     "execution_count": 128,
     "metadata": {},
     "output_type": "execute_result"
    }
   ],
   "source": [
    "a"
   ]
  },
  {
   "cell_type": "code",
   "execution_count": 129,
   "id": "9f26ca63",
   "metadata": {},
   "outputs": [],
   "source": [
    "a[2] = \"makanan\""
   ]
  },
  {
   "cell_type": "code",
   "execution_count": 130,
   "id": "939bd26e",
   "metadata": {},
   "outputs": [
    {
     "data": {
      "text/plain": [
       "['apel', 'pisang', 'makanan', 'jeruk', 'semangka', 'salak']"
      ]
     },
     "execution_count": 130,
     "metadata": {},
     "output_type": "execute_result"
    }
   ],
   "source": [
    "a"
   ]
  },
  {
   "cell_type": "code",
   "execution_count": 131,
   "id": "c79a3dfc",
   "metadata": {},
   "outputs": [
    {
     "data": {
      "text/plain": [
       "'saYa mAu mAKan'"
      ]
     },
     "execution_count": 131,
     "metadata": {},
     "output_type": "execute_result"
    }
   ],
   "source": [
    "kalimat"
   ]
  },
  {
   "cell_type": "code",
   "execution_count": null,
   "id": "593f2bbe",
   "metadata": {},
   "outputs": [],
   "source": [
    "immutable vs mutable\n",
    "str vs          list"
   ]
  },
  {
   "cell_type": "code",
   "execution_count": null,
   "id": "ffe5eb02",
   "metadata": {},
   "outputs": [],
   "source": [
    "kalimat[5] = \"X\""
   ]
  },
  {
   "cell_type": "code",
   "execution_count": 132,
   "id": "4e7d3f0c",
   "metadata": {},
   "outputs": [
    {
     "data": {
      "text/plain": [
       "['apel', 'pisang', 'makanan', 'jeruk', 'semangka', 'salak']"
      ]
     },
     "execution_count": 132,
     "metadata": {},
     "output_type": "execute_result"
    }
   ],
   "source": [
    "a"
   ]
  },
  {
   "cell_type": "code",
   "execution_count": 133,
   "id": "cc004941",
   "metadata": {},
   "outputs": [],
   "source": [
    "a[-2:] = [5, 8]"
   ]
  },
  {
   "cell_type": "code",
   "execution_count": 134,
   "id": "5570bb86",
   "metadata": {},
   "outputs": [
    {
     "data": {
      "text/plain": [
       "['apel', 'pisang', 'makanan', 'jeruk', 5, 8]"
      ]
     },
     "execution_count": 134,
     "metadata": {},
     "output_type": "execute_result"
    }
   ],
   "source": [
    "a"
   ]
  },
  {
   "cell_type": "code",
   "execution_count": 135,
   "id": "c4172492",
   "metadata": {},
   "outputs": [],
   "source": [
    "a[:3] = [2, 4]"
   ]
  },
  {
   "cell_type": "code",
   "execution_count": 136,
   "id": "fe515948",
   "metadata": {},
   "outputs": [
    {
     "data": {
      "text/plain": [
       "[2, 4, 'jeruk', 5, 8]"
      ]
     },
     "execution_count": 136,
     "metadata": {},
     "output_type": "execute_result"
    }
   ],
   "source": [
    "a"
   ]
  },
  {
   "cell_type": "markdown",
   "id": "930d43e1",
   "metadata": {},
   "source": [
    "## TUPLES\n",
    "- immutable\n",
    "- ()"
   ]
  },
  {
   "cell_type": "code",
   "execution_count": 137,
   "id": "055b044e",
   "metadata": {},
   "outputs": [],
   "source": [
    "buah_tup = ('apel', 'pisang', 'durian', 'jeruk', 'semangka', 'salak')"
   ]
  },
  {
   "cell_type": "code",
   "execution_count": 138,
   "id": "ba3cebcf",
   "metadata": {},
   "outputs": [
    {
     "ename": "TypeError",
     "evalue": "'tuple' object does not support item assignment",
     "output_type": "error",
     "traceback": [
      "\u001b[1;31m---------------------------------------------------------------------------\u001b[0m",
      "\u001b[1;31mTypeError\u001b[0m                                 Traceback (most recent call last)",
      "\u001b[1;32m~\\AppData\\Local\\Temp\\ipykernel_8500\\2024813132.py\u001b[0m in \u001b[0;36m<module>\u001b[1;34m\u001b[0m\n\u001b[1;32m----> 1\u001b[1;33m \u001b[0mbuah_tup\u001b[0m\u001b[1;33m[\u001b[0m\u001b[1;36m0\u001b[0m\u001b[1;33m]\u001b[0m \u001b[1;33m=\u001b[0m \u001b[1;34m\"makanan\"\u001b[0m\u001b[1;33m\u001b[0m\u001b[1;33m\u001b[0m\u001b[0m\n\u001b[0m",
      "\u001b[1;31mTypeError\u001b[0m: 'tuple' object does not support item assignment"
     ]
    }
   ],
   "source": [
    "buah_tup[0] = \"makanan\""
   ]
  },
  {
   "cell_type": "markdown",
   "id": "716dc75f",
   "metadata": {},
   "source": [
    "## DICTIONARY\n",
    "- [] list\n",
    "- () tuples\n",
    "- {} dict\n",
    "- pairing key dan value\n",
    "- key harus unik\n",
    "- mutable\n",
    "- no indexing"
   ]
  },
  {
   "cell_type": "code",
   "execution_count": 139,
   "id": "32fdcc68",
   "metadata": {},
   "outputs": [
    {
     "ename": "NameError",
     "evalue": "name 'buah_warna' is not defined",
     "output_type": "error",
     "traceback": [
      "\u001b[1;31m---------------------------------------------------------------------------\u001b[0m",
      "\u001b[1;31mNameError\u001b[0m                                 Traceback (most recent call last)",
      "\u001b[1;32m~\\AppData\\Local\\Temp\\ipykernel_8500\\1966246039.py\u001b[0m in \u001b[0;36m<module>\u001b[1;34m\u001b[0m\n\u001b[1;32m----> 1\u001b[1;33m \u001b[0mbuah_warna\u001b[0m\u001b[1;33m[\u001b[0m\u001b[1;36m0\u001b[0m\u001b[1;33m]\u001b[0m\u001b[1;33m\u001b[0m\u001b[1;33m\u001b[0m\u001b[0m\n\u001b[0m",
      "\u001b[1;31mNameError\u001b[0m: name 'buah_warna' is not defined"
     ]
    }
   ],
   "source": [
    "buah_warna[0]"
   ]
  },
  {
   "cell_type": "code",
   "execution_count": 140,
   "id": "faa9a8c6",
   "metadata": {},
   "outputs": [],
   "source": [
    "x = ['apel', 'pisang', 'durian', 'jeruk', 'semangka', 'salak','salak','salak','salak',    'salak', 'apel']"
   ]
  },
  {
   "cell_type": "code",
   "execution_count": 142,
   "id": "023e780a",
   "metadata": {},
   "outputs": [
    {
     "data": {
      "text/plain": [
       "['apel',\n",
       " 'pisang',\n",
       " 'durian',\n",
       " 'jeruk',\n",
       " 'semangka',\n",
       " 'salak',\n",
       " 'salak',\n",
       " 'salak',\n",
       " 'salak',\n",
       " 'salak',\n",
       " 'apel']"
      ]
     },
     "execution_count": 142,
     "metadata": {},
     "output_type": "execute_result"
    }
   ],
   "source": [
    "x"
   ]
  },
  {
   "cell_type": "code",
   "execution_count": 143,
   "id": "6246cf44",
   "metadata": {},
   "outputs": [],
   "source": [
    "buah_warna = {\"apel\": \"merah\", \"pisang\": \"kuning\", \"durian\": \"hijau\", \"salak\": \"coklat\", 0: \"aneh\", \"darah\": \"merah\"}"
   ]
  },
  {
   "cell_type": "code",
   "execution_count": 144,
   "id": "40c9499e",
   "metadata": {},
   "outputs": [
    {
     "data": {
      "text/plain": [
       "{'apel': 'merah',\n",
       " 'pisang': 'kuning',\n",
       " 'durian': 'hijau',\n",
       " 'salak': 'coklat',\n",
       " 0: 'aneh',\n",
       " 'darah': 'merah'}"
      ]
     },
     "execution_count": 144,
     "metadata": {},
     "output_type": "execute_result"
    }
   ],
   "source": [
    "buah_warna"
   ]
  },
  {
   "cell_type": "code",
   "execution_count": 146,
   "id": "5548b2bc",
   "metadata": {},
   "outputs": [
    {
     "data": {
      "text/plain": [
       "'aneh'"
      ]
     },
     "execution_count": 146,
     "metadata": {},
     "output_type": "execute_result"
    }
   ],
   "source": [
    "buah_warna[0]"
   ]
  },
  {
   "cell_type": "code",
   "execution_count": 150,
   "id": "97453dbb",
   "metadata": {},
   "outputs": [
    {
     "data": {
      "text/plain": [
       "'merah'"
      ]
     },
     "execution_count": 150,
     "metadata": {},
     "output_type": "execute_result"
    }
   ],
   "source": [
    "buah_warna[\"apel\"]"
   ]
  },
  {
   "cell_type": "code",
   "execution_count": 151,
   "id": "b9d0011b",
   "metadata": {},
   "outputs": [],
   "source": [
    "buah_warna[0] = \"diganti\""
   ]
  },
  {
   "cell_type": "code",
   "execution_count": 153,
   "id": "1e740198",
   "metadata": {},
   "outputs": [
    {
     "data": {
      "text/plain": [
       "{'apel': 'merah',\n",
       " 'pisang': 'kuning',\n",
       " 'durian': 'hijau',\n",
       " 'salak': 'coklat',\n",
       " 0: 'diganti',\n",
       " 'darah': 'merah'}"
      ]
     },
     "execution_count": 153,
     "metadata": {},
     "output_type": "execute_result"
    }
   ],
   "source": [
    "buah_warna"
   ]
  },
  {
   "cell_type": "code",
   "execution_count": 154,
   "id": "deb29cd3",
   "metadata": {},
   "outputs": [],
   "source": [
    "biodata = {\"nama\": \"john\", \"umur\": 51, \"pasangan\": \"edna\", \"anak\": [\"ralph\", \"joe\"]}"
   ]
  },
  {
   "cell_type": "code",
   "execution_count": 155,
   "id": "342eb13e",
   "metadata": {},
   "outputs": [
    {
     "data": {
      "text/plain": [
       "{'nama': 'john', 'umur': 51, 'pasangan': 'edna', 'anak': ['ralph', 'joe']}"
      ]
     },
     "execution_count": 155,
     "metadata": {},
     "output_type": "execute_result"
    }
   ],
   "source": [
    "biodata"
   ]
  },
  {
   "cell_type": "code",
   "execution_count": 156,
   "id": "ee299542",
   "metadata": {},
   "outputs": [],
   "source": [
    "biodata_list = [\"john\", 51, \"edna\", [\"ralph\", \"joe\"]]"
   ]
  },
  {
   "cell_type": "code",
   "execution_count": 157,
   "id": "175c5a77",
   "metadata": {},
   "outputs": [
    {
     "data": {
      "text/plain": [
       "51"
      ]
     },
     "execution_count": 157,
     "metadata": {},
     "output_type": "execute_result"
    }
   ],
   "source": [
    "biodata_list[1]"
   ]
  },
  {
   "cell_type": "code",
   "execution_count": 158,
   "id": "b9f377d0",
   "metadata": {},
   "outputs": [
    {
     "data": {
      "text/plain": [
       "51"
      ]
     },
     "execution_count": 158,
     "metadata": {},
     "output_type": "execute_result"
    }
   ],
   "source": [
    "biodata[\"umur\"]"
   ]
  },
  {
   "cell_type": "code",
   "execution_count": 159,
   "id": "671b0be7",
   "metadata": {},
   "outputs": [],
   "source": [
    "sub_list = [\n",
    "    {\"nama\": \"john\", \"umur\": 51, \"pasangan\": \"edna\", \"anak\": [\"ralph\", \"joe\"]},\n",
    "    {\"nama\": \"ben\", \"umur\": 41, \"pasangan\": \"dina\", \"anak\": [\"ralph\", \"joe\"]}\n",
    "]"
   ]
  },
  {
   "cell_type": "code",
   "execution_count": 160,
   "id": "15ac5fb4",
   "metadata": {},
   "outputs": [
    {
     "data": {
      "text/plain": [
       "[{'nama': 'john', 'umur': 51, 'pasangan': 'edna', 'anak': ['ralph', 'joe']},\n",
       " {'nama': 'ben', 'umur': 41, 'pasangan': 'dina', 'anak': ['ralph', 'joe']}]"
      ]
     },
     "execution_count": 160,
     "metadata": {},
     "output_type": "execute_result"
    }
   ],
   "source": [
    "sub_list"
   ]
  },
  {
   "cell_type": "code",
   "execution_count": 161,
   "id": "587fd01f",
   "metadata": {},
   "outputs": [
    {
     "data": {
      "text/plain": [
       "[{'nama': 'john', 'umur': 51, 'pasangan': 'edna', 'anak': ['ralph', 'joe']},\n",
       " {'nama': 'ben', 'umur': 41, 'pasangan': 'dina', 'anak': ['ralph', 'joe']}]"
      ]
     },
     "execution_count": 161,
     "metadata": {},
     "output_type": "execute_result"
    }
   ],
   "source": [
    "sub_list"
   ]
  },
  {
   "cell_type": "code",
   "execution_count": 162,
   "id": "43e4c67c",
   "metadata": {},
   "outputs": [
    {
     "data": {
      "text/plain": [
       "41"
      ]
     },
     "execution_count": 162,
     "metadata": {},
     "output_type": "execute_result"
    }
   ],
   "source": [
    "sub_list[1][\"umur\"]"
   ]
  },
  {
   "cell_type": "code",
   "execution_count": 163,
   "id": "fa347ff7",
   "metadata": {},
   "outputs": [
    {
     "data": {
      "text/plain": [
       "['apel', 45, True, ['merah', 'biru', 'hijau']]"
      ]
     },
     "execution_count": 163,
     "metadata": {},
     "output_type": "execute_result"
    }
   ],
   "source": [
    "c"
   ]
  },
  {
   "cell_type": "code",
   "execution_count": 164,
   "id": "fa4d71e6",
   "metadata": {},
   "outputs": [
    {
     "data": {
      "text/plain": [
       "['merah', 'biru', 'hijau']"
      ]
     },
     "execution_count": 164,
     "metadata": {},
     "output_type": "execute_result"
    }
   ],
   "source": [
    "c[3]"
   ]
  },
  {
   "cell_type": "code",
   "execution_count": 165,
   "id": "47a11483",
   "metadata": {},
   "outputs": [],
   "source": [
    "z = c[3]"
   ]
  },
  {
   "cell_type": "code",
   "execution_count": 166,
   "id": "bf60a5e8",
   "metadata": {},
   "outputs": [
    {
     "data": {
      "text/plain": [
       "['merah', 'biru', 'hijau']"
      ]
     },
     "execution_count": 166,
     "metadata": {},
     "output_type": "execute_result"
    }
   ],
   "source": [
    "z"
   ]
  },
  {
   "cell_type": "code",
   "execution_count": 167,
   "id": "680d9d10",
   "metadata": {},
   "outputs": [
    {
     "data": {
      "text/plain": [
       "'biru'"
      ]
     },
     "execution_count": 167,
     "metadata": {},
     "output_type": "execute_result"
    }
   ],
   "source": [
    "z[1]"
   ]
  },
  {
   "cell_type": "code",
   "execution_count": 168,
   "id": "5f62b6ab",
   "metadata": {},
   "outputs": [
    {
     "data": {
      "text/plain": [
       "'biru'"
      ]
     },
     "execution_count": 168,
     "metadata": {},
     "output_type": "execute_result"
    }
   ],
   "source": [
    "c[3][1]"
   ]
  },
  {
   "cell_type": "code",
   "execution_count": 169,
   "id": "25f19c53",
   "metadata": {},
   "outputs": [
    {
     "data": {
      "text/plain": [
       "True"
      ]
     },
     "execution_count": 169,
     "metadata": {},
     "output_type": "execute_result"
    }
   ],
   "source": [
    "z == c[3]"
   ]
  },
  {
   "cell_type": "markdown",
   "id": "3d5fa7a4",
   "metadata": {},
   "source": [
    "## PANJANG LINE"
   ]
  },
  {
   "cell_type": "code",
   "execution_count": 170,
   "id": "22b2c2d7",
   "metadata": {},
   "outputs": [
    {
     "name": "stdout",
     "output_type": "stream",
     "text": [
      "205\n"
     ]
    }
   ],
   "source": [
    "x = 5 + 10 \\\n",
    "    * 20\n",
    "print(x)"
   ]
  }
 ],
 "metadata": {
  "kernelspec": {
   "display_name": "Python 3 (ipykernel)",
   "language": "python",
   "name": "python3"
  },
  "language_info": {
   "codemirror_mode": {
    "name": "ipython",
    "version": 3
   },
   "file_extension": ".py",
   "mimetype": "text/x-python",
   "name": "python",
   "nbconvert_exporter": "python",
   "pygments_lexer": "ipython3",
   "version": "3.9.13"
  }
 },
 "nbformat": 4,
 "nbformat_minor": 5
}
