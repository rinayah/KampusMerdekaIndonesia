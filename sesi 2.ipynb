{
 "cells": [
  {
   "cell_type": "markdown",
   "id": "72169064",
   "metadata": {},
   "source": [
    "### COMPARISON\n",
    "\n",
    "- a == b\n",
    "- a != b\n",
    "- a < b\n",
    "- a > b\n",
    "- a <= b\n",
    "- a >= b"
   ]
  },
  {
   "cell_type": "code",
   "execution_count": null,
   "id": "b4c3fad8",
   "metadata": {},
   "outputs": [],
   "source": [
    "if <syarat>:\n",
    "    <run code ini>"
   ]
  },
  {
   "cell_type": "code",
   "execution_count": 1,
   "id": "a42830f8",
   "metadata": {},
   "outputs": [
    {
     "name": "stdout",
     "output_type": "stream",
     "text": [
      "Hello\n"
     ]
    }
   ],
   "source": [
    "if True:\n",
    "    print(\"Hello\")"
   ]
  },
  {
   "cell_type": "code",
   "execution_count": 2,
   "id": "1101facb",
   "metadata": {},
   "outputs": [],
   "source": [
    "if False:\n",
    "    print(\"Hello\")"
   ]
  },
  {
   "cell_type": "code",
   "execution_count": 3,
   "id": "7f485d71",
   "metadata": {},
   "outputs": [],
   "source": [
    "x = 10\n",
    "if x == 5:\n",
    "    print(\"Hello\")"
   ]
  },
  {
   "cell_type": "code",
   "execution_count": null,
   "id": "015ade02",
   "metadata": {},
   "outputs": [],
   "source": [
    "if <syarat>:\n",
    "    <run code ini>\n",
    "else:\n",
    "    <run code alternatif>"
   ]
  },
  {
   "cell_type": "code",
   "execution_count": null,
   "id": "42da9f5f",
   "metadata": {},
   "outputs": [],
   "source": [
    "0 ~= Falsy\n",
    "!0 ~= Truthy"
   ]
  },
  {
   "cell_type": "code",
   "execution_count": 4,
   "id": "f518a4eb",
   "metadata": {},
   "outputs": [
    {
     "name": "stdout",
     "output_type": "stream",
     "text": [
      "akan keprint\n",
      "akan muncul\n",
      "jalan\n"
     ]
    }
   ],
   "source": [
    "x = 0\n",
    "y = 5\n",
    "\n",
    "if x == y:\n",
    "    print(\"no\")\n",
    "\n",
    "if x != y:\n",
    "    print(\"akan keprint\")\n",
    "\n",
    "if x > y:\n",
    "    print(\"tidak muncul\")\n",
    "\n",
    "if x < y:\n",
    "    print(\"akan muncul\")\n",
    "\n",
    "if x:\n",
    "    print(\"ga akan jalan\")\n",
    "\n",
    "if y:\n",
    "    print(\"jalan\")\n",
    "\n",
    "if 0:\n",
    "    print(\"ga jalan\")"
   ]
  },
  {
   "cell_type": "code",
   "execution_count": 5,
   "id": "4aaf402c",
   "metadata": {},
   "outputs": [
    {
     "name": "stdout",
     "output_type": "stream",
     "text": [
      "Jalankan\n"
     ]
    }
   ],
   "source": [
    "# x=0; y=5\n",
    "if x != 0:\n",
    "    print(\"tidak dijalankan\")\n",
    "\n",
    "if y != 0:\n",
    "    print(\"Jalankan\")"
   ]
  },
  {
   "cell_type": "code",
   "execution_count": 6,
   "id": "b60c1136",
   "metadata": {},
   "outputs": [
    {
     "name": "stdout",
     "output_type": "stream",
     "text": [
      "mau makan\n"
     ]
    }
   ],
   "source": [
    "if \"saya\" in \"saya mau makan\":\n",
    "    print(\"mau makan\")"
   ]
  },
  {
   "cell_type": "code",
   "execution_count": null,
   "id": "9fabbee8",
   "metadata": {},
   "outputs": [],
   "source": [
    "# array: list, tuple, dict"
   ]
  },
  {
   "cell_type": "code",
   "execution_count": 7,
   "id": "a28129e6",
   "metadata": {},
   "outputs": [
    {
     "name": "stdout",
     "output_type": "stream",
     "text": [
      "jalan\n"
     ]
    }
   ],
   "source": [
    "if \"foo\" in [\"foo\", \"bar\", \"quo\"]:\n",
    "    print(\"jalan\")\n",
    "\n",
    "if \"test\" in [\"foo\", \"bar\", \"quo\"]:\n",
    "    print(\"ga jalan\")"
   ]
  },
  {
   "cell_type": "code",
   "execution_count": 8,
   "id": "bda1a756",
   "metadata": {},
   "outputs": [
    {
     "name": "stdout",
     "output_type": "stream",
     "text": [
      "lihat dari key nya\n"
     ]
    }
   ],
   "source": [
    "if \"foo\" in {\"foo\": 1, \"bar\": 2, \"quo\": 3}:\n",
    "    print(\"lihat dari key nya\")"
   ]
  },
  {
   "cell_type": "code",
   "execution_count": 9,
   "id": "98a74f09",
   "metadata": {},
   "outputs": [
    {
     "name": "stdout",
     "output_type": "stream",
     "text": [
      "response alternatif\n",
      "akan selalu jalan\n"
     ]
    }
   ],
   "source": [
    "if \"test\" in {\"foo\": 1, \"bar\": 2, \"quo\": 3}:\n",
    "    print(\"lihat dari key nya\")\n",
    "else:\n",
    "    print(\"response alternatif\")\n",
    "print(\"akan selalu jalan\")"
   ]
  },
  {
   "cell_type": "code",
   "execution_count": 10,
   "id": "a433e838",
   "metadata": {},
   "outputs": [
    {
     "name": "stdout",
     "output_type": "stream",
     "text": [
      "kondisi luar benar\n",
      "tanpa kondisi\n",
      "kondisi di dalam yang benar\n",
      "apapun yang terjadi, print\n"
     ]
    }
   ],
   "source": [
    "if \"foo\" in [\"foo\", \"bar\", \"quo\"]:\n",
    "    print(\"kondisi luar benar\")\n",
    "\n",
    "    if 10 > 20:\n",
    "        print(\"kondisi di dalam\")\n",
    "\n",
    "    print(\"tanpa kondisi\")\n",
    "\n",
    "    if 10 < 20:\n",
    "        print(\"kondisi di dalam yang benar\")\n",
    "\n",
    "else:\n",
    "    print(\"kondisi luar salah\")\n",
    "\n",
    "print(\"apapun yang terjadi, print\")"
   ]
  },
  {
   "cell_type": "code",
   "execution_count": 11,
   "id": "0a91ba2d",
   "metadata": {},
   "outputs": [
    {
     "name": "stdout",
     "output_type": "stream",
     "text": [
      "kondisi luar salah\n",
      "apapun yang terjadi, print\n"
     ]
    }
   ],
   "source": [
    "if \"boo\" in [\"foo\", \"bar\", \"quo\"]:\n",
    "    print(\"kondisi luar benar\")\n",
    "\n",
    "    if 10 > 20:\n",
    "        print(\"kondisi di dalam\")\n",
    "\n",
    "    print(\"tanpa kondisi\")\n",
    "\n",
    "    if 10 < 20:\n",
    "        print(\"kondisi di dalam yang benar\")\n",
    "\n",
    "else:\n",
    "    print(\"kondisi luar salah\")\n",
    "\n",
    "print(\"apapun yang terjadi, print\")"
   ]
  },
  {
   "cell_type": "code",
   "execution_count": 12,
   "id": "c3215eec",
   "metadata": {},
   "outputs": [
    {
     "name": "stdout",
     "output_type": "stream",
     "text": [
      "x lebih besar sama dengan dari 50 dan lebih kecil sama dengan dari 100\n"
     ]
    }
   ],
   "source": [
    "x = 80\n",
    "if x < 50:\n",
    "    print(\"x lebih kecil dari 50\")\n",
    "elif x > 100:\n",
    "    print(\"x lebih besar dari 100\")\n",
    "else:\n",
    "    print(\"x lebih besar sama dengan dari 50 dan lebih kecil sama dengan dari 100\")"
   ]
  },
  {
   "cell_type": "code",
   "execution_count": 13,
   "id": "ed4da578",
   "metadata": {},
   "outputs": [
    {
     "name": "stdout",
     "output_type": "stream",
     "text": [
      "x lebih kecil dari 50\n",
      "selalu print\n"
     ]
    }
   ],
   "source": [
    "x = 10\n",
    "if x < 50:\n",
    "    print(\"x lebih kecil dari 50\")\n",
    "elif x < 20:\n",
    "    print(\"x lebih besar dari 20\")\n",
    "else:\n",
    "    print(\"x lebih besar sama dengan dari 50\")\n",
    "\n",
    "print(\"selalu print\")"
   ]
  },
  {
   "cell_type": "code",
   "execution_count": 14,
   "id": "11d9a638",
   "metadata": {},
   "outputs": [
    {
     "ename": "SyntaxError",
     "evalue": "invalid syntax (2425255107.py, line 1)",
     "output_type": "error",
     "traceback": [
      "\u001b[1;36m  File \u001b[1;32m\"C:\\Users\\inayah\\AppData\\Local\\Temp\\ipykernel_11352\\2425255107.py\"\u001b[1;36m, line \u001b[1;32m1\u001b[0m\n\u001b[1;33m    elif x == 100:\u001b[0m\n\u001b[1;37m    ^\u001b[0m\n\u001b[1;31mSyntaxError\u001b[0m\u001b[1;31m:\u001b[0m invalid syntax\n"
     ]
    }
   ],
   "source": [
    "elif x == 100:\n",
    "    print(\"halo\")"
   ]
  },
  {
   "cell_type": "code",
   "execution_count": 15,
   "id": "e7d36a09",
   "metadata": {},
   "outputs": [
    {
     "ename": "SyntaxError",
     "evalue": "invalid syntax (4129477180.py, line 1)",
     "output_type": "error",
     "traceback": [
      "\u001b[1;36m  File \u001b[1;32m\"C:\\Users\\inayah\\AppData\\Local\\Temp\\ipykernel_11352\\4129477180.py\"\u001b[1;36m, line \u001b[1;32m1\u001b[0m\n\u001b[1;33m    else:\u001b[0m\n\u001b[1;37m    ^\u001b[0m\n\u001b[1;31mSyntaxError\u001b[0m\u001b[1;31m:\u001b[0m invalid syntax\n"
     ]
    }
   ],
   "source": [
    "else:\n",
    "    print(\"error\")"
   ]
  },
  {
   "cell_type": "code",
   "execution_count": 16,
   "id": "461de48c",
   "metadata": {},
   "outputs": [
    {
     "name": "stdout",
     "output_type": "stream",
     "text": [
      "x lebih kecil dari 50\n",
      "selalu print\n"
     ]
    }
   ],
   "source": [
    "x = 10\n",
    "if x < 50:\n",
    "    print(\"x lebih kecil dari 50\")\n",
    "elif x < 20:\n",
    "    print(\"x lebih besar dari 20\")\n",
    "else:\n",
    "    print(\"x lebih besar sama dengan dari 50\")\n",
    "\n",
    "\n",
    "print(\"selalu print\")"
   ]
  },
  {
   "cell_type": "code",
   "execution_count": 17,
   "id": "7c4ef21a",
   "metadata": {},
   "outputs": [
    {
     "name": "stdout",
     "output_type": "stream",
     "text": [
      "foo\n"
     ]
    }
   ],
   "source": [
    "if \"a\" in \"bar\":\n",
    "    print(\"foo\")"
   ]
  },
  {
   "cell_type": "code",
   "execution_count": 18,
   "id": "542fb911",
   "metadata": {},
   "outputs": [
    {
     "name": "stdout",
     "output_type": "stream",
     "text": [
      "foo\n"
     ]
    }
   ],
   "source": [
    "if \"a\" in \"bar\":\n",
    "    print(\"foo\")"
   ]
  },
  {
   "cell_type": "code",
   "execution_count": 19,
   "id": "b2d3d19f",
   "metadata": {},
   "outputs": [
    {
     "name": "stdout",
     "output_type": "stream",
     "text": [
      "hello\n",
      "world\n",
      "bye\n"
     ]
    }
   ],
   "source": [
    "print(\"hello\")\n",
    "print(\"world\")\n",
    "print(\"bye\")"
   ]
  },
  {
   "cell_type": "code",
   "execution_count": 20,
   "id": "ccbf3773",
   "metadata": {},
   "outputs": [
    {
     "name": "stdout",
     "output_type": "stream",
     "text": [
      "hello\n",
      "world\n",
      "bye\n"
     ]
    }
   ],
   "source": [
    "print(\"hello\")\n",
    "print(\"world\")\n",
    "print(\"bye\")"
   ]
  },
  {
   "cell_type": "code",
   "execution_count": 21,
   "id": "7b2115e4",
   "metadata": {},
   "outputs": [
    {
     "name": "stdout",
     "output_type": "stream",
     "text": [
      "foo\n"
     ]
    }
   ],
   "source": [
    "if \"a\" in \"bar\":\n",
    "    print(\"foo\")"
   ]
  },
  {
   "cell_type": "code",
   "execution_count": 22,
   "id": "5cd32d61",
   "metadata": {},
   "outputs": [
    {
     "ename": "ZeroDivisionError",
     "evalue": "division by zero",
     "output_type": "error",
     "traceback": [
      "\u001b[1;31m---------------------------------------------------------------------------\u001b[0m",
      "\u001b[1;31mZeroDivisionError\u001b[0m                         Traceback (most recent call last)",
      "\u001b[1;32m~\\AppData\\Local\\Temp\\ipykernel_11352\\952777577.py\u001b[0m in \u001b[0;36m<module>\u001b[1;34m\u001b[0m\n\u001b[1;32m----> 1\u001b[1;33m \u001b[1;32mif\u001b[0m \u001b[1;36m1\u001b[0m \u001b[1;33m/\u001b[0m \u001b[1;36m0\u001b[0m\u001b[1;33m:\u001b[0m\u001b[1;33m\u001b[0m\u001b[1;33m\u001b[0m\u001b[0m\n\u001b[0m\u001b[0;32m      2\u001b[0m     \u001b[0mprint\u001b[0m\u001b[1;33m(\u001b[0m\u001b[1;34m\"ga muncul\"\u001b[0m\u001b[1;33m)\u001b[0m\u001b[1;33m\u001b[0m\u001b[1;33m\u001b[0m\u001b[0m\n",
      "\u001b[1;31mZeroDivisionError\u001b[0m: division by zero"
     ]
    }
   ],
   "source": [
    "if 1 / 0:\n",
    "    print(\"ga muncul\")"
   ]
  },
  {
   "cell_type": "code",
   "execution_count": 23,
   "id": "2584c7eb",
   "metadata": {},
   "outputs": [
    {
     "name": "stdout",
     "output_type": "stream",
     "text": [
      "bawa payung\n",
      "bawa payung\n"
     ]
    }
   ],
   "source": [
    "raining = True\n",
    "if raining:\n",
    "    print(\"bawa payung\")\n",
    "\n",
    "print(\"bawa payung\" if raining else \"ga bawa payung\")"
   ]
  },
  {
   "cell_type": "code",
   "execution_count": null,
   "id": "b6b6e194",
   "metadata": {},
   "outputs": [],
   "source": [
    "response_true if condition else response_false"
   ]
  },
  {
   "cell_type": "code",
   "execution_count": 25,
   "id": "b6e778b8",
   "metadata": {},
   "outputs": [
    {
     "data": {
      "text/plain": [
       "'yes'"
      ]
     },
     "execution_count": 25,
     "metadata": {},
     "output_type": "execute_result"
    }
   ],
   "source": [
    "\"yes\" if True else \"no\""
   ]
  },
  {
   "cell_type": "code",
   "execution_count": 26,
   "id": "31920132",
   "metadata": {},
   "outputs": [
    {
     "data": {
      "text/plain": [
       "'no'"
      ]
     },
     "execution_count": 26,
     "metadata": {},
     "output_type": "execute_result"
    }
   ],
   "source": [
    "\"yes\" if False else \"no\""
   ]
  },
  {
   "cell_type": "code",
   "execution_count": 27,
   "id": "f964a1c2",
   "metadata": {},
   "outputs": [
    {
     "data": {
      "text/plain": [
       "[6]"
      ]
     },
     "execution_count": 27,
     "metadata": {},
     "output_type": "execute_result"
    }
   ],
   "source": [
    "x = 6\n",
    "[x * 5 if x in [1, 2, 3, 4, 5] else x]"
   ]
  },
  {
   "cell_type": "code",
   "execution_count": 28,
   "id": "f775ff87",
   "metadata": {},
   "outputs": [
    {
     "name": "stdout",
     "output_type": "stream",
     "text": [
      "teen\n"
     ]
    }
   ],
   "source": [
    "age = 12\n",
    "s = \"teen\" if age < 21 else \"adult\"\n",
    "print(s)"
   ]
  },
  {
   "cell_type": "code",
   "execution_count": 29,
   "id": "fecd9c29",
   "metadata": {},
   "outputs": [
    {
     "name": "stdout",
     "output_type": "stream",
     "text": [
      "teen\n"
     ]
    }
   ],
   "source": [
    "age = 12\n",
    "if age < 21:\n",
    "    s = \"teen\"\n",
    "else:\n",
    "    s = \"adult\"\n",
    "print(s)"
   ]
  },
  {
   "cell_type": "code",
   "execution_count": 30,
   "id": "b7ad97e7",
   "metadata": {},
   "outputs": [],
   "source": [
    "if True:\n",
    "    pass"
   ]
  },
  {
   "cell_type": "markdown",
   "id": "49ff3182",
   "metadata": {},
   "source": [
    "## WHILE LOOPS"
   ]
  },
  {
   "cell_type": "code",
   "execution_count": null,
   "id": "791acb34",
   "metadata": {},
   "outputs": [],
   "source": [
    "while <condition>:\n",
    "    <jalanin ini>"
   ]
  },
  {
   "cell_type": "code",
   "execution_count": null,
   "id": "b7bd2476",
   "metadata": {},
   "outputs": [],
   "source": [
    "# infinite loop\n",
    "while True:\n",
    "    print(\"hello\")"
   ]
  },
  {
   "cell_type": "code",
   "execution_count": 1,
   "id": "b8b39df7",
   "metadata": {},
   "outputs": [
    {
     "name": "stdout",
     "output_type": "stream",
     "text": [
      "n awal 5\n",
      "n awal 4\n",
      "n awal 3\n",
      "n awal 2\n",
      "n awal 1\n"
     ]
    }
   ],
   "source": [
    "n = 5\n",
    "while n > 0:\n",
    "    print(\"n awal\", n)\n",
    "    n -= 1\n",
    "    # print(\"n akhir\", n)"
   ]
  },
  {
   "cell_type": "code",
   "execution_count": 2,
   "id": "3fb597fb",
   "metadata": {},
   "outputs": [
    {
     "name": "stdout",
     "output_type": "stream",
     "text": [
      "i awal 0\n",
      "i awal 1\n",
      "i awal 2\n",
      "i awal 3\n",
      "i awal 4\n",
      "i awal 5\n"
     ]
    }
   ],
   "source": [
    "i = 0\n",
    "while i < 6:\n",
    "    print(\"i awal\", i)\n",
    "    i += 1\n",
    "    # print(\"i akhir\", i)"
   ]
  },
  {
   "cell_type": "markdown",
   "id": "2c78b4df",
   "metadata": {},
   "source": [
    "## break = keluar dari loop\n",
    "\n",
    "## continue = lanjut / loncat ke iterasi berikut nya"
   ]
  },
  {
   "cell_type": "code",
   "execution_count": 3,
   "id": "94b8c355",
   "metadata": {},
   "outputs": [],
   "source": [
    "while True:\n",
    "    break\n",
    "    print(\"hello\")"
   ]
  },
  {
   "cell_type": "code",
   "execution_count": 4,
   "id": "f3a3acb1",
   "metadata": {},
   "outputs": [
    {
     "name": "stdout",
     "output_type": "stream",
     "text": [
      "i awal 0\n",
      "i awal 1\n",
      "i awal 2\n",
      "i awal 3\n",
      "i awal 4\n",
      "i awal 5\n"
     ]
    }
   ],
   "source": [
    "i = 0\n",
    "while True:\n",
    "    print(\"i awal\", i)\n",
    "    i += 1\n",
    "    if i > 5:\n",
    "        break\n",
    "    # print(\"i akhir\", i)"
   ]
  },
  {
   "cell_type": "code",
   "execution_count": 5,
   "id": "3b2353ba",
   "metadata": {},
   "outputs": [
    {
     "name": "stdout",
     "output_type": "stream",
     "text": [
      "4\n",
      "Loop ended.\n"
     ]
    }
   ],
   "source": [
    "n = 5\n",
    "while n > 0:\n",
    "    n -= 1\n",
    "    if n % 2 == 0:\n",
    "        print(n)\n",
    "        break\n",
    "print(\"Loop ended.\")"
   ]
  },
  {
   "cell_type": "code",
   "execution_count": 6,
   "id": "21adbebb",
   "metadata": {},
   "outputs": [
    {
     "name": "stdout",
     "output_type": "stream",
     "text": [
      "n awal 5\n",
      "n genap 4\n",
      "n awal 4\n",
      "n awal 3\n",
      "n genap 2\n",
      "n awal 2\n",
      "n awal 1\n",
      "n genap 0\n",
      "Loop ended.\n"
     ]
    }
   ],
   "source": [
    "n = 5\n",
    "while n > 0:\n",
    "    print(\"n awal\", n)\n",
    "    n -= 1\n",
    "    if n % 2 != 0:\n",
    "        continue\n",
    "    print(\"n genap\", n)\n",
    "print(\"Loop ended.\")"
   ]
  },
  {
   "cell_type": "code",
   "execution_count": 7,
   "id": "cdff9b19",
   "metadata": {},
   "outputs": [
    {
     "name": "stdout",
     "output_type": "stream",
     "text": [
      "4\n",
      "3\n",
      "2\n"
     ]
    }
   ],
   "source": [
    "n = 5\n",
    "while n > 0:\n",
    "    n -= 1\n",
    "    print(n)\n",
    "    if n == 2:\n",
    "        break\n",
    "else:\n",
    "    print('Loop done.')"
   ]
  },
  {
   "cell_type": "code",
   "execution_count": 8,
   "id": "ce702e6b",
   "metadata": {},
   "outputs": [
    {
     "name": "stdout",
     "output_type": "stream",
     "text": [
      "4\n",
      "a\n",
      "x\n",
      "3\n",
      "b\n",
      "x\n",
      "2\n",
      "o\n",
      "x\n",
      "1\n",
      "o\n",
      "x\n",
      "0\n",
      "f\n",
      "x\n",
      "Loop done.\n"
     ]
    }
   ],
   "source": [
    "n = 5\n",
    "while n > 0:\n",
    "    m = \"foobar\"\n",
    "    n -= 1\n",
    "    print(n)\n",
    "    while n < len(m):\n",
    "        print(m[n])\n",
    "        break\n",
    "    if True:\n",
    "        print(\"x\")\n",
    "else:\n",
    "    print('Loop done.')"
   ]
  },
  {
   "cell_type": "code",
   "execution_count": null,
   "id": "7f051d6b",
   "metadata": {},
   "outputs": [],
   "source": [
    "if cond4:\n",
    "    print(\"d\")\n",
    "if cond3:\n",
    "    print(\"c\")\n",
    "if cond2:\n",
    "    print(\"b\")\n",
    "if cond1:\n",
    "    print(\"a\")"
   ]
  },
  {
   "cell_type": "code",
   "execution_count": null,
   "id": "f3a04d14",
   "metadata": {},
   "outputs": [],
   "source": [
    "if cond1:\n",
    "    print(\"a\")\n",
    "    if cond2:\n",
    "        print(\"b\")\n",
    "        if cond3:\n",
    "            print(\"c\")\n",
    "            if cond4:\n",
    "                print(\"d\")"
   ]
  },
  {
   "cell_type": "code",
   "execution_count": 10,
   "id": "e1f0a4c7",
   "metadata": {},
   "outputs": [
    {
     "name": "stdout",
     "output_type": "stream",
     "text": [
      "4\n",
      "3\n",
      "2\n",
      "1\n",
      "0\n"
     ]
    }
   ],
   "source": [
    "n = 5\n",
    "while n > 0: n -= 1; print(n)"
   ]
  },
  {
   "cell_type": "markdown",
   "id": "5e69b86c",
   "metadata": {},
   "source": [
    "## FOR LOOP"
   ]
  },
  {
   "cell_type": "code",
   "execution_count": 11,
   "id": "8eeec831",
   "metadata": {},
   "outputs": [
    {
     "name": "stdout",
     "output_type": "stream",
     "text": [
      "1\n",
      "2\n",
      "3\n"
     ]
    }
   ],
   "source": [
    "for i in [1, 2, 3]:\n",
    "    print(i)"
   ]
  },
  {
   "cell_type": "code",
   "execution_count": 12,
   "id": "0a19bc2b",
   "metadata": {},
   "outputs": [
    {
     "name": "stdout",
     "output_type": "stream",
     "text": [
      "a\n",
      "b\n",
      "c\n"
     ]
    }
   ],
   "source": [
    "for i in \"abc\":\n",
    "    print(i)"
   ]
  },
  {
   "cell_type": "code",
   "execution_count": 13,
   "id": "80b3579c",
   "metadata": {},
   "outputs": [
    {
     "name": "stdout",
     "output_type": "stream",
     "text": [
      "0\n",
      "1\n",
      "2\n",
      "3\n",
      "4\n"
     ]
    }
   ],
   "source": [
    "i = 0\n",
    "while i < 5:\n",
    "    print(i)\n",
    "    i += 1"
   ]
  },
  {
   "cell_type": "code",
   "execution_count": null,
   "id": "e01b9759",
   "metadata": {},
   "outputs": [],
   "source": [
    "for (i=0, i < 5, i+=1):\n",
    "    print(i)"
   ]
  },
  {
   "cell_type": "code",
   "execution_count": 15,
   "id": "972b0577",
   "metadata": {},
   "outputs": [
    {
     "name": "stdout",
     "output_type": "stream",
     "text": [
      "0\n",
      "1\n",
      "2\n",
      "3\n",
      "4\n"
     ]
    }
   ],
   "source": [
    "for i in [0, 1, 2, 3, 4]:\n",
    "    print(i)"
   ]
  },
  {
   "cell_type": "code",
   "execution_count": 16,
   "id": "f4d96c53",
   "metadata": {},
   "outputs": [
    {
     "name": "stdout",
     "output_type": "stream",
     "text": [
      "hello\n",
      "hello\n",
      "hello\n",
      "hello\n",
      "hello\n",
      "hello\n",
      "hello\n",
      "hello\n",
      "hello\n",
      "hello\n"
     ]
    }
   ],
   "source": [
    "for i in [0, 1, 2, 3, 4, 5, 6, 7, 8 ,9]:\n",
    "    print(\"hello\")"
   ]
  },
  {
   "cell_type": "code",
   "execution_count": 17,
   "id": "0a187d47",
   "metadata": {},
   "outputs": [
    {
     "name": "stdout",
     "output_type": "stream",
     "text": [
      "hello\n",
      "hello\n",
      "hello\n",
      "hello\n",
      "hello\n"
     ]
    }
   ],
   "source": [
    "for i in list(range(5)):\n",
    "    print(\"hello\")"
   ]
  },
  {
   "cell_type": "code",
   "execution_count": 18,
   "id": "e38343c9",
   "metadata": {},
   "outputs": [
    {
     "name": "stdout",
     "output_type": "stream",
     "text": [
      "foo\n",
      "bar\n",
      "baz\n"
     ]
    }
   ],
   "source": [
    "a = ['foo', 'bar', 'baz']\n",
    "for i in a:\n",
    "    print(i)"
   ]
  },
  {
   "cell_type": "code",
   "execution_count": 19,
   "id": "d7211a3e",
   "metadata": {},
   "outputs": [
    {
     "name": "stdout",
     "output_type": "stream",
     "text": [
      "foo\n",
      "bar\n",
      "baz\n"
     ]
    }
   ],
   "source": [
    "d = {'foo': 1, 'bar': 2, 'baz': 3}\n",
    "\n",
    "for i in d:\n",
    "    print(i)"
   ]
  },
  {
   "cell_type": "code",
   "execution_count": 20,
   "id": "a24f0f2e",
   "metadata": {},
   "outputs": [
    {
     "name": "stdout",
     "output_type": "stream",
     "text": [
      "foo\n",
      "bar\n",
      "baz\n"
     ]
    }
   ],
   "source": [
    "d = {'foo': 1, 'bar': 2, 'baz': 3}\n",
    "\n",
    "for i in d.keys():\n",
    "    print(i)"
   ]
  },
  {
   "cell_type": "code",
   "execution_count": 21,
   "id": "1d629ecc",
   "metadata": {},
   "outputs": [
    {
     "name": "stdout",
     "output_type": "stream",
     "text": [
      "1\n",
      "2\n",
      "3\n"
     ]
    }
   ],
   "source": [
    "d = {'foo': 1, 'bar': 2, 'baz': 3}\n",
    "\n",
    "for _ in d.values():\n",
    "    print(_)"
   ]
  },
  {
   "cell_type": "code",
   "execution_count": 22,
   "id": "992cc03f",
   "metadata": {},
   "outputs": [
    {
     "name": "stdout",
     "output_type": "stream",
     "text": [
      "foo 1\n",
      "bar 2\n",
      "baz 3\n"
     ]
    }
   ],
   "source": [
    "d = {'foo': 1, 'bar': 2, 'baz': 3}\n",
    "\n",
    "for k, v in d.items():\n",
    "    print(k, v)"
   ]
  },
  {
   "cell_type": "code",
   "execution_count": 26,
   "id": "e7f86758",
   "metadata": {},
   "outputs": [
    {
     "ename": "NameError",
     "evalue": "name 'start' is not defined",
     "output_type": "error",
     "traceback": [
      "\u001b[1;31m---------------------------------------------------------------------------\u001b[0m",
      "\u001b[1;31mNameError\u001b[0m                                 Traceback (most recent call last)",
      "\u001b[1;32m~\\AppData\\Local\\Temp\\ipykernel_8348\\293665275.py\u001b[0m in \u001b[0;36m<module>\u001b[1;34m\u001b[0m\n\u001b[1;32m----> 1\u001b[1;33m \u001b[0mrange\u001b[0m\u001b[1;33m(\u001b[0m\u001b[0mstart\u001b[0m\u001b[1;33m,\u001b[0m \u001b[0mstop\u001b[0m\u001b[1;33m,\u001b[0m \u001b[0mstep\u001b[0m\u001b[1;33m)\u001b[0m\u001b[1;33m\u001b[0m\u001b[1;33m\u001b[0m\u001b[0m\n\u001b[0m",
      "\u001b[1;31mNameError\u001b[0m: name 'start' is not defined"
     ]
    }
   ],
   "source": [
    "range(start, stop, step)"
   ]
  },
  {
   "cell_type": "code",
   "execution_count": 24,
   "id": "74f49ae2",
   "metadata": {},
   "outputs": [
    {
     "data": {
      "text/plain": [
       "[0, 1, 2, 3, 4, 5, 6, 7, 8, 9]"
      ]
     },
     "execution_count": 24,
     "metadata": {},
     "output_type": "execute_result"
    }
   ],
   "source": [
    "list(range(0, 10))"
   ]
  },
  {
   "cell_type": "code",
   "execution_count": 27,
   "id": "381b5f20",
   "metadata": {},
   "outputs": [
    {
     "data": {
      "text/plain": [
       "[0, 1, 2, 3, 4, 5, 6, 7, 8, 9]"
      ]
     },
     "execution_count": 27,
     "metadata": {},
     "output_type": "execute_result"
    }
   ],
   "source": [
    "list(range(0, 10, 1))"
   ]
  },
  {
   "cell_type": "code",
   "execution_count": 28,
   "id": "9d9087aa",
   "metadata": {},
   "outputs": [
    {
     "data": {
      "text/plain": [
       "[0, 2, 4, 6, 8]"
      ]
     },
     "execution_count": 28,
     "metadata": {},
     "output_type": "execute_result"
    }
   ],
   "source": [
    "list(range(0, 10, 2))"
   ]
  },
  {
   "cell_type": "code",
   "execution_count": 29,
   "id": "8f868f41",
   "metadata": {},
   "outputs": [
    {
     "data": {
      "text/plain": [
       "[0, 1, 2, 3, 4, 5, 6, 7, 8, 9]"
      ]
     },
     "execution_count": 29,
     "metadata": {},
     "output_type": "execute_result"
    }
   ],
   "source": [
    "list(range(10))"
   ]
  },
  {
   "cell_type": "code",
   "execution_count": 30,
   "id": "8d0c6cb8",
   "metadata": {},
   "outputs": [
    {
     "data": {
      "text/plain": [
       "[]"
      ]
     },
     "execution_count": 30,
     "metadata": {},
     "output_type": "execute_result"
    }
   ],
   "source": [
    "list(range(10, 2))"
   ]
  },
  {
   "cell_type": "code",
   "execution_count": 31,
   "id": "dccdf67b",
   "metadata": {},
   "outputs": [
    {
     "data": {
      "text/plain": [
       "[10, 8, 6, 4]"
      ]
     },
     "execution_count": 31,
     "metadata": {},
     "output_type": "execute_result"
    }
   ],
   "source": [
    "list(range(10, 2, -2))"
   ]
  },
  {
   "cell_type": "code",
   "execution_count": 32,
   "id": "b6f48451",
   "metadata": {},
   "outputs": [
    {
     "data": {
      "text/plain": [
       "[0, 1, 2, 3, 4]"
      ]
     },
     "execution_count": 32,
     "metadata": {},
     "output_type": "execute_result"
    }
   ],
   "source": [
    "list(range(5))"
   ]
  },
  {
   "cell_type": "code",
   "execution_count": 33,
   "id": "a86d4a66",
   "metadata": {},
   "outputs": [
    {
     "data": {
      "text/plain": [
       "range(0, 5)"
      ]
     },
     "execution_count": 33,
     "metadata": {},
     "output_type": "execute_result"
    }
   ],
   "source": [
    "range(5)"
   ]
  },
  {
   "cell_type": "code",
   "execution_count": 34,
   "id": "39d53b30",
   "metadata": {},
   "outputs": [
    {
     "name": "stdout",
     "output_type": "stream",
     "text": [
      "hello\n",
      "hello\n",
      "hello\n",
      "hello\n",
      "hello\n"
     ]
    }
   ],
   "source": [
    "for i in list(range(5)):\n",
    "    print(\"hello\")"
   ]
  },
  {
   "cell_type": "code",
   "execution_count": 35,
   "id": "9e90e3de",
   "metadata": {},
   "outputs": [
    {
     "name": "stdout",
     "output_type": "stream",
     "text": [
      "hello\n",
      "hello\n",
      "hello\n",
      "hello\n",
      "hello\n"
     ]
    }
   ],
   "source": [
    "for i in range(5):\n",
    "    print(\"hello\")"
   ]
  },
  {
   "cell_type": "code",
   "execution_count": 36,
   "id": "e83398d7",
   "metadata": {},
   "outputs": [
    {
     "name": "stdout",
     "output_type": "stream",
     "text": [
      "0\n",
      "3\n",
      "6\n",
      "9\n",
      "12\n",
      "15\n",
      "18\n"
     ]
    }
   ],
   "source": [
    "for i in range(0, 20, 3):\n",
    "    print(i)"
   ]
  },
  {
   "cell_type": "code",
   "execution_count": 37,
   "id": "d842072c",
   "metadata": {},
   "outputs": [],
   "source": [
    "d = ['foo', 'bar', 'baz', 'qux', \"cro\"]"
   ]
  },
  {
   "cell_type": "code",
   "execution_count": 38,
   "id": "7e1d69bc",
   "metadata": {},
   "outputs": [
    {
     "name": "stdout",
     "output_type": "stream",
     "text": [
      "foo\n",
      "bar\n",
      "baz\n",
      "qux\n"
     ]
    }
   ],
   "source": [
    "i = 0\n",
    "while i < 4:\n",
    "    print(d[i])\n",
    "    i += 1"
   ]
  },
  {
   "cell_type": "code",
   "execution_count": 39,
   "id": "e3085218",
   "metadata": {},
   "outputs": [
    {
     "name": "stdout",
     "output_type": "stream",
     "text": [
      "foo\n",
      "bar\n",
      "baz\n",
      "qux\n",
      "cro\n"
     ]
    }
   ],
   "source": [
    "i = 0\n",
    "while i < len(d):\n",
    "    print(d[i])\n",
    "    i += 1"
   ]
  },
  {
   "cell_type": "code",
   "execution_count": null,
   "id": "2409ebd5",
   "metadata": {},
   "outputs": [],
   "source": [
    "for (i=0, i < 4, i++):\n",
    "    print(d[i])"
   ]
  },
  {
   "cell_type": "code",
   "execution_count": 41,
   "id": "f33b1e2b",
   "metadata": {},
   "outputs": [
    {
     "name": "stdout",
     "output_type": "stream",
     "text": [
      "foo\n",
      "bar\n",
      "baz\n",
      "qux\n",
      "cro\n"
     ]
    }
   ],
   "source": [
    "for i in d:\n",
    "    print(i)"
   ]
  },
  {
   "cell_type": "code",
   "execution_count": 42,
   "id": "dfc0adf0",
   "metadata": {},
   "outputs": [
    {
     "name": "stdout",
     "output_type": "stream",
     "text": [
      "foo\n",
      "bar\n",
      "baz\n",
      "qux\n",
      "cro\n",
      "selesai\n"
     ]
    }
   ],
   "source": [
    "for i in d:\n",
    "    print(i)\n",
    "else:\n",
    "    print(\"selesai\")"
   ]
  },
  {
   "cell_type": "code",
   "execution_count": 43,
   "id": "8d092e96",
   "metadata": {},
   "outputs": [
    {
     "name": "stdout",
     "output_type": "stream",
     "text": [
      "foo\n",
      "bar\n",
      "baz\n"
     ]
    }
   ],
   "source": [
    "for i in d:\n",
    "    print(i)\n",
    "    if \"z\" in i:\n",
    "        break\n",
    "else:\n",
    "    print(\"selesai\")"
   ]
  },
  {
   "cell_type": "code",
   "execution_count": null,
   "id": "2243ef6d",
   "metadata": {},
   "outputs": [],
   "source": [
    "import numpy as np"
   ]
  },
  {
   "cell_type": "code",
   "execution_count": null,
   "id": "007ee4fc",
   "metadata": {},
   "outputs": [],
   "source": []
  },
  {
   "cell_type": "code",
   "execution_count": null,
   "id": "443ecdfb",
   "metadata": {},
   "outputs": [],
   "source": []
  }
 ],
 "metadata": {
  "kernelspec": {
   "display_name": "Python 3 (ipykernel)",
   "language": "python",
   "name": "python3"
  },
  "language_info": {
   "codemirror_mode": {
    "name": "ipython",
    "version": 3
   },
   "file_extension": ".py",
   "mimetype": "text/x-python",
   "name": "python",
   "nbconvert_exporter": "python",
   "pygments_lexer": "ipython3",
   "version": "3.9.13"
  }
 },
 "nbformat": 4,
 "nbformat_minor": 5
}
